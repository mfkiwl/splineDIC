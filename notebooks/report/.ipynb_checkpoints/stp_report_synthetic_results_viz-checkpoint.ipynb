{
 "cells": [
  {
   "cell_type": "markdown",
   "metadata": {},
   "source": [
    "# Visualizing NURBS DIC Results from Synthetic Testing\n",
    "## Sam Potter\n",
    "## Current: 3/6/19"
   ]
  },
  {
   "cell_type": "markdown",
   "metadata": {},
   "source": [
    "## Path and Imports"
   ]
  },
  {
   "cell_type": "code",
   "execution_count": 1,
   "metadata": {},
   "outputs": [],
   "source": [
    "import sys\n",
    "import os\n",
    "\n",
    "sys.path.extend(['C:\\\\Users\\\\potterst1\\\\Desktop\\Repositories\\BitBucket\\dic',\n",
    "                 'C:/Users/potterst1/Desktop/Repositories/BitBucket/dic'])\n",
    "sys.path.extend(['/workspace/stpotter/git/bitbucket/dic'])\n",
    "from dic import visualize\n",
    "import cv2\n",
    "from matplotlib import pyplot as plt\n",
    "import numpy as np\n",
    "from geomdl import BSpline as bs\n",
    "from geomdl import utilities as gutil\n",
    "from mpl_toolkits.axes_grid1 import make_axes_locatable\n",
    "from scipy import stats"
   ]
  },
  {
   "cell_type": "markdown",
   "metadata": {},
   "source": [
    "## Magics"
   ]
  },
  {
   "cell_type": "code",
   "execution_count": 2,
   "metadata": {},
   "outputs": [],
   "source": [
    "%matplotlib inline"
   ]
  },
  {
   "cell_type": "markdown",
   "metadata": {},
   "source": [
    "## Read in results data from text files"
   ]
  },
  {
   "cell_type": "code",
   "execution_count": 16,
   "metadata": {},
   "outputs": [],
   "source": [
    "# Define a function for ease of use. Brittle and expects a certain format, but okay for now\n",
    "\n",
    "def results_open(fname):\n",
    "    \n",
    "    f = open(fname, 'r')\n",
    "    lines = f.readlines()\n",
    "    lines = lines[3:]\n",
    "    data = np.zeros((len(lines), 4))\n",
    "    for i in range(0, len(data)):\n",
    "        entry = list(map(float, lines[i].split()))\n",
    "        data[i, :] = np.array(entry)\n",
    "    return data\n",
    "        \n",
    "# Get synthetic\n",
    "fname = 'C:\\\\Users\\\\potterst1\\\\Desktop\\\\Repositories\\\\BitBucket\\\\dic\\\\scripts\\\\3Steps\\\\stretchx\\\\01synthetic.txt'\n",
    "synth01 = results_open(fname)\n",
    "\n",
    "fname = 'C:\\\\Users\\\\potterst1\\\\Desktop\\\\Repositories\\\\BitBucket\\\\dic\\\\scripts\\\\3Steps\\\\stretchx\\\\12synthetic.txt'\n",
    "synth12 = results_open(fname)"
   ]
  },
  {
   "cell_type": "code",
   "execution_count": 17,
   "metadata": {},
   "outputs": [
    {
     "data": {
      "text/plain": [
       "array([], shape=(0, 4), dtype=float64)"
      ]
     },
     "execution_count": 17,
     "metadata": {},
     "output_type": "execute_result"
    }
   ],
   "source": [
    "synth01"
   ]
  },
  {
   "cell_type": "markdown",
   "metadata": {},
   "source": [
    "## Visualize Applied Synthetic Displacement, Deformation"
   ]
  },
  {
   "cell_type": "code",
   "execution_count": null,
   "metadata": {},
   "outputs": [],
   "source": []
  },
  {
   "cell_type": "markdown",
   "metadata": {},
   "source": [
    "## Visualize Minimization Result Displacement, Deformation"
   ]
  },
  {
   "cell_type": "code",
   "execution_count": null,
   "metadata": {},
   "outputs": [],
   "source": []
  },
  {
   "cell_type": "markdown",
   "metadata": {},
   "source": [
    "## Compute Differences between Applied and Minimized Results"
   ]
  },
  {
   "cell_type": "code",
   "execution_count": null,
   "metadata": {},
   "outputs": [],
   "source": []
  },
  {
   "cell_type": "markdown",
   "metadata": {},
   "source": [
    "## Visualize Differences betwteen Applied and Minimized Results "
   ]
  },
  {
   "cell_type": "code",
   "execution_count": null,
   "metadata": {},
   "outputs": [],
   "source": []
  },
  {
   "cell_type": "markdown",
   "metadata": {},
   "source": [
    "## Compute Statistics on Differences between Applied and Minimized Results"
   ]
  },
  {
   "cell_type": "code",
   "execution_count": null,
   "metadata": {},
   "outputs": [],
   "source": []
  }
 ],
 "metadata": {
  "kernelspec": {
   "display_name": "Python (scidev)",
   "language": "python",
   "name": "scidev"
  },
  "language_info": {
   "codemirror_mode": {
    "name": "ipython",
    "version": 3
   },
   "file_extension": ".py",
   "mimetype": "text/x-python",
   "name": "python",
   "nbconvert_exporter": "python",
   "pygments_lexer": "ipython3",
   "version": "3.6.6"
  }
 },
 "nbformat": 4,
 "nbformat_minor": 2
}
