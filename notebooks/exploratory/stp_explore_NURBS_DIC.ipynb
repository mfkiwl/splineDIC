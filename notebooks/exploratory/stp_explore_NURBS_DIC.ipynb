{
 "cells": [
  {
   "cell_type": "markdown",
   "metadata": {},
   "source": [
    "# Exploring & Testing Use of NURBS in DIC\n",
    "## Sam Potter\n",
    "## Current: 2/15/19"
   ]
  },
  {
   "cell_type": "markdown",
   "metadata": {},
   "source": [
    "## Path and Imports"
   ]
  },
  {
   "cell_type": "code",
   "execution_count": null,
   "metadata": {},
   "outputs": [],
   "source": [
    "# bootstrap $PATH\n",
    "import sys\n",
    "import os\n",
    "sys.path.extend(['C:\\\\Users\\\\potterst1\\\\Desktop\\Repositories\\BitBucket\\dic',\n",
    "                 'C:/Users/potterst1/Desktop/Repositories/BitBucket/dic'])\n",
    "sys.path.extend(['/workspace/stpotter/git/bitbucket/dic'])\n",
    "import warnings\n",
    "from dic import nurbs\n",
    "from dic import fileIO\n",
    "from dic import numerics\n",
    "from dic import analysis\n",
    "from dic import image_processing\n",
    "from dic import visualize\n",
    "import cv2\n",
    "from matplotlib import pyplot as plt\n",
    "from mpl_toolkits.axes_grid1 import make_axes_locatable\n",
    "import numpy as np\n",
    "from geomdl import BSpline as bs\n",
    "from geomdl import utilities as gutil\n",
    "from geomdl import helpers\n",
    "import scipy.optimize as sciopt\n",
    "import scipy.signal as sig"
   ]
  },
  {
   "cell_type": "markdown",
   "metadata": {},
   "source": [
    "## Magics"
   ]
  },
  {
   "cell_type": "code",
   "execution_count": null,
   "metadata": {},
   "outputs": [],
   "source": [
    "%matplotlib inline"
   ]
  },
  {
   "cell_type": "markdown",
   "metadata": {},
   "source": [
    "### Read in ref image file"
   ]
  },
  {
   "cell_type": "code",
   "execution_count": null,
   "metadata": {},
   "outputs": [],
   "source": [
    "# Read\n",
    "# Hard code absolute paths for now. Fix later'\n",
    "dic_name = 'C:\\\\Users\\\\potterst1\\\\Desktop\\\\Repositories\\\\BitBucket\\\\dic\\\\data\\\\DIC_S_cropped_gray_pad_0.tiff'\n",
    "psfdi_name = 'C:\\\\Users\\\\potterst1\\\\Desktop\\\\Repositories\\\\BitBucket\\\\dic\\\\data\\\\DOA_cropped_gray_pad_0.tiff'\n",
    "dic_name = '/workspace/stpotter/git/bitbucket/dic/data/DIC_S_cropped_gray_pad_0.tiff'\n",
    "psfdi_name = '/workspace/stpotter/git/bitbucket/dic/data/DOSA_cropped_gray_pad_0.tiff'\n",
    "def_image = cv2.imread(dic_name, -1)  # Read in image 'as is'\n",
    "#def_image = def_image.astype('uint8')"
   ]
  },
  {
   "cell_type": "code",
   "execution_count": null,
   "metadata": {},
   "outputs": [],
   "source": [
    "# Display\n",
    "plt.imshow(def_image, cmap='gray')"
   ]
  },
  {
   "cell_type": "markdown",
   "metadata": {},
   "source": [
    "## Deform Ref Image"
   ]
  },
  {
   "cell_type": "code",
   "execution_count": null,
   "metadata": {},
   "outputs": [],
   "source": [
    "# Translate image\n",
    "dx = 0.0\n",
    "dy = 0.0\n",
    "f11 = 1.01\n",
    "f12 = 0.0\n",
    "f21 = 0.0\n",
    "f22 = 1.0\n",
    "f = np.array([[f11, f12],\n",
    "             [f21, f22]])\n",
    "finv = np.linalg.inv(f)\n",
    "f11i = finv[0, 0]\n",
    "f12i = finv[0, 1]\n",
    "f21i = finv[1, 0]\n",
    "f22i = finv[1, 1]\n",
    "transx = np.array([[f11i, f12i, dx],\n",
    "                   [f21i, f22i, dy]])\n",
    "ref_image = image_processing.im_warp(def_image, transx)"
   ]
  },
  {
   "cell_type": "code",
   "execution_count": null,
   "metadata": {},
   "outputs": [],
   "source": [
    "# Display\n",
    "plt.imshow(ref_image, cmap='gray')"
   ]
  },
  {
   "cell_type": "markdown",
   "metadata": {},
   "source": [
    "## Manually Specify Region of Interest"
   ]
  },
  {
   "cell_type": "code",
   "execution_count": null,
   "metadata": {},
   "outputs": [],
   "source": [
    "# Format: [column index for start of X, column index for end of X, row index for start of Y, row index for end of Y]\n",
    "subregion_indices = np.array([125, 375, 125, 375])"
   ]
  },
  {
   "cell_type": "markdown",
   "metadata": {},
   "source": [
    "## Setup reference mesh"
   ]
  },
  {
   "cell_type": "code",
   "execution_count": null,
   "metadata": {},
   "outputs": [],
   "source": [
    "# Control Points\n",
    "rowmin = subregion_indices[-2:].min()\n",
    "rowmax = subregion_indices[-2:].max()\n",
    "colmin = subregion_indices[:2].min()\n",
    "colmax = subregion_indices[:2].max()\n",
    "x = np.linspace(colmin, colmax, 4)\n",
    "y = np.linspace(rowmin, rowmax, 4)\n",
    "coords = np.zeros((len(x) * len(y), 2))\n",
    "k = 0\n",
    "for i in range(0, len(x)):\n",
    "    for j in range(0, len(y)):\n",
    "        coords[k, :] = np.array([x[i], y[j]])\n",
    "        k += 1"
   ]
  },
  {
   "cell_type": "code",
   "execution_count": null,
   "metadata": {},
   "outputs": [],
   "source": [
    "# Surface\n",
    "ref_surf = bs.Surface()\n",
    "\n",
    "ref_surf.degree_u = 3\n",
    "ref_surf.degree_v = 3\n",
    "\n",
    "num_ctrlpts = np.sqrt(len(coords)).astype('int')\n",
    "\n",
    "ref_surf.set_ctrlpts(coords.tolist(), num_ctrlpts, num_ctrlpts)\n",
    "\n",
    "ref_surf.knotvector_u = gutil.generate_knot_vector(ref_surf.degree_u, num_ctrlpts)\n",
    "ref_surf.knotvector_v = gutil.generate_knot_vector(ref_surf.degree_v, num_ctrlpts)\n",
    "\n",
    "ref_surf.delta = 0.01"
   ]
  },
  {
   "cell_type": "code",
   "execution_count": null,
   "metadata": {},
   "outputs": [],
   "source": [
    "# Plot the mesh nodes on the original image\n",
    "# Would be nice to be able to visualize full mesh\n",
    "x = coords[:, 0]\n",
    "y = coords[:, 1]\n",
    "fig, ax = plt.subplots(figsize=(10, 20))\n",
    "ax.imshow(ref_image, cmap='gray')\n",
    "ax.plot(x, y, 'o', color='red')\n",
    "plt.show()"
   ]
  },
  {
   "cell_type": "markdown",
   "metadata": {},
   "source": [
    "## Test Synthetically Deforming Ctrlpts"
   ]
  },
  {
   "cell_type": "code",
   "execution_count": null,
   "metadata": {},
   "outputs": [],
   "source": [
    "F = np.array([[f11, f12],\n",
    "             [f21, f22]])\n",
    "\n",
    "coords_new = np.zeros((len(coords), 2))\n",
    "\n",
    "for i in range(len(coords_new)):\n",
    "    coords_new[i, :] = np.matmul(F, coords[i, :]) + np.array([dx, dy])"
   ]
  },
  {
   "cell_type": "code",
   "execution_count": null,
   "metadata": {},
   "outputs": [],
   "source": [
    "# Set up new surface\n",
    "disp_surf = bs.Surface()\n",
    "\n",
    "disp_surf.degree_u = 3\n",
    "disp_surf.degree_v = 3\n",
    "\n",
    "num_ctrlpts = np.sqrt(len(coords_new)).astype('int')\n",
    "\n",
    "disp_surf.set_ctrlpts(coords_new.tolist(), num_ctrlpts, num_ctrlpts)\n",
    "\n",
    "disp_surf.knotvector_u = gutil.generate_knot_vector(disp_surf.degree_u, num_ctrlpts)\n",
    "disp_surf.knotvector_v = gutil.generate_knot_vector(disp_surf.degree_v, num_ctrlpts)\n",
    "\n",
    "disp_surf.delta = 0.01"
   ]
  },
  {
   "cell_type": "code",
   "execution_count": null,
   "metadata": {},
   "outputs": [],
   "source": [
    "# Compute control point displacements\n",
    "coords_disp = coords_new - coords\n",
    "synth_disp = np.ndarray.flatten(coords_disp)\n",
    "\n",
    "# Compute mesh_znssd\n",
    "analysis.mesh_znssd(ref_image, def_image, ref_surf, coords_disp)"
   ]
  },
  {
   "cell_type": "code",
   "execution_count": null,
   "metadata": {},
   "outputs": [],
   "source": [
    "coords_new"
   ]
  },
  {
   "cell_type": "markdown",
   "metadata": {},
   "source": [
    "## Pack necessary arguments into a tuple"
   ]
  },
  {
   "cell_type": "code",
   "execution_count": null,
   "metadata": {},
   "outputs": [],
   "source": [
    "arg_tup = (ref_image, def_image, ref_surf)"
   ]
  },
  {
   "cell_type": "markdown",
   "metadata": {},
   "source": [
    "## Wrap minfun in scipy optimization library"
   ]
  },
  {
   "cell_type": "code",
   "execution_count": null,
   "metadata": {},
   "outputs": [],
   "source": [
    "# Compute rigid initial correlation with 2d correlation\n",
    "rowmid = int(np.mean([rowmin, rowmax]))\n",
    "colmid = int(np.mean([colmin, colmax]))\n",
    "\n",
    "# Get subimage\n",
    "subimage = np.copy(ref_image[subregion_indices[2]:subregion_indices[3], subregion_indices[0]:subregion_indices[1]])\n",
    "\n",
    "# Normalize images\n",
    "ref_subnorm = subimage - subimage.mean()\n",
    "def_norm = def_image - def_image.mean()\n",
    "\n",
    "# Correlate\n",
    "corr = sig.correlate2d(def_norm, ref_subnorm, boundary='symm', mode='same')\n",
    "midy, midx = np.unravel_index(np.argmax(corr), corr.shape)\n",
    "\n",
    "initx = (midx + 1) - colmid\n",
    "inity = (midy + 1) - rowmid\n",
    "\n",
    "# Setup initial displacement vector\n",
    "int_disp_vec = np.zeros(2*len(coords))\n",
    "for i in range(0, len(int_disp_vec), 2):\n",
    "    int_disp_vec[i] = initx\n",
    "    int_disp_vec[i+1] = inity\n",
    "\n",
    "# compute mesh znssd one time and exit if its low enough\n",
    "\n",
    "residual = minfun_nm(int_disp_vec, *arg_tup)\n",
    "\n",
    "if residual > 1e-6:\n",
    "    print('Begin minimization')\n",
    "    result = sciopt.minimize(analysis.scipy_minfun, int_disp_vec, args=arg_tup, method='L-BFGS-B', jac='2-point', bounds=None, options={'maxiter': 10, 'disp': True})\n",
    "\n",
    "print('Actual Rigid X Displacement: {}'.format(dx))\n",
    "print('Actual Rigid Y Displacement: {}'.format(dy))\n",
    "print('Mesh Details: {} by {}'.format(num_ctrlpts, num_ctrlpts))\n",
    "print('Initial Guess -  X Displacement: {}'.format(initx))\n",
    "print('Initial Guess - Y Displacement: {}'.format(inity))\n",
    "\n",
    "if residual > 1e-6:\n",
    "    print('residual')\n",
    "    print(result.fun)\n",
    "    print('final control point displacements')\n",
    "    print(result.x)\n",
    "else:\n",
    "    print('residual')\n",
    "    print(residual)\n",
    "    print('final control point displacement')\n",
    "    print(int_disp_vec)"
   ]
  },
  {
   "cell_type": "markdown",
   "metadata": {},
   "source": [
    "## Visualize displacement results"
   ]
  },
  {
   "cell_type": "code",
   "execution_count": null,
   "metadata": {},
   "outputs": [],
   "source": [
    "# Create control point displacement vectors from minimization results\n",
    "disp_cpts = np.column_stack((int_disp_vec[::2], int_disp_vec[1::2]))"
   ]
  },
  {
   "cell_type": "code",
   "execution_count": null,
   "metadata": {},
   "outputs": [],
   "source": [
    "# Set up new surface\n",
    "disp_surf = bs.Surface()\n",
    "\n",
    "disp_surf.degree_u = 3\n",
    "disp_surf.degree_v = 3\n",
    "\n",
    "#num_ctrlpts = np.sqrt(len(disp_cpts)).astype('int')\n",
    "\n",
    "#disp_surf.set_ctrlpts(disp_cpts.tolist(), num_ctrlpts, num_ctrlpts)\n",
    "\n",
    "disp_surf.set_ctrlpts(coords_disp.tolist(), num_ctrlpts, num_ctrlpts)\n",
    "\n",
    "disp_surf.knotvector_u = gutil.generate_knot_vector(disp_surf.degree_u, num_ctrlpts)\n",
    "disp_surf.knotvector_v = gutil.generate_knot_vector(disp_surf.degree_v, num_ctrlpts)\n",
    "\n",
    "disp_surf.delta = 0.01"
   ]
  },
  {
   "cell_type": "code",
   "execution_count": null,
   "metadata": {},
   "outputs": [],
   "source": [
    "visualize.viz_displacement()"
   ]
  },
  {
   "cell_type": "markdown",
   "metadata": {},
   "source": [
    "## Visualize deformation results"
   ]
  },
  {
   "cell_type": "code",
   "execution_count": null,
   "metadata": {},
   "outputs": [],
   "source": [
    "visualize.viz_deformation()"
   ]
  }
 ],
 "metadata": {
  "kernelspec": {
   "display_name": "Python (scidev)",
   "language": "python",
   "name": "scidev"
  },
  "language_info": {
   "codemirror_mode": {
    "name": "ipython",
    "version": 3
   },
   "file_extension": ".py",
   "mimetype": "text/x-python",
   "name": "python",
   "nbconvert_exporter": "python",
   "pygments_lexer": "ipython3",
   "version": "3.6.6"
  }
 },
 "nbformat": 4,
 "nbformat_minor": 2
}
