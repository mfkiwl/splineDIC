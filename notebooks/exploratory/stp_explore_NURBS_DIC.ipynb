{
 "cells": [
  {
   "cell_type": "markdown",
   "metadata": {},
   "source": [
    "# Exploring & Testing Use of NURBS in DIC\n",
    "## Sam Potter\n",
    "## Current: 2/15/19"
   ]
  },
  {
   "cell_type": "markdown",
   "metadata": {},
   "source": [
    "## Path and Imports"
   ]
  },
  {
   "cell_type": "code",
   "execution_count": null,
   "metadata": {},
   "outputs": [],
   "source": [
    "# bootstrap $PATH\n",
    "import sys\n",
    "import os\n",
    "sys.path.extend(['C:\\\\Users\\\\potterst1\\\\Desktop\\Repositories\\BitBucket\\dic',\n",
    "                 'C:/Users/potterst1/Desktop/Repositories/BitBucket/dic'])\n",
    "sys.path.extend(['/workspace/stpotter/git/bitbucket/dic'])\n",
    "import warnings\n",
    "from dic import nurbs\n",
    "from dic import fileIO\n",
    "from dic import numerics\n",
    "from dic import analysis\n",
    "from dic import image_processing\n",
    "import cv2\n",
    "from matplotlib import pyplot as plt\n",
    "from mpl_toolkits.axes_grid1 import make_axes_locatable\n",
    "import numpy as np\n",
    "from geomdl import BSpline as bs\n",
    "from geomdl import utilities as gutil\n",
    "from geomdl import helpers\n",
    "import scipy.optimize as sciopt\n",
    "import scipy.signal as sig"
   ]
  },
  {
   "cell_type": "markdown",
   "metadata": {},
   "source": [
    "## Magics"
   ]
  },
  {
   "cell_type": "code",
   "execution_count": null,
   "metadata": {},
   "outputs": [],
   "source": [
    "%matplotlib inline"
   ]
  },
  {
   "cell_type": "markdown",
   "metadata": {},
   "source": [
    "### Read in ref image file"
   ]
  },
  {
   "cell_type": "code",
   "execution_count": null,
   "metadata": {},
   "outputs": [],
   "source": [
    "# Read\n",
    "# Hard code absolute paths for now. Fix later'\n",
    "dic_name = 'C:\\\\Users\\\\potterst1\\\\Desktop\\\\Repositories\\\\BitBucket\\\\dic\\\\data\\\\DIC_S_cropped_gray_pad_0.tiff'\n",
    "psfdi_name = 'C:\\\\Users\\\\potterst1\\\\Desktop\\\\Repositories\\\\BitBucket\\\\dic\\\\data\\\\DOA_cropped_gray_pad_0.tiff'\n",
    "dic_name = '/workspace/stpotter/git/bitbucket/dic/data/DIC_S_cropped_gray_pad_0.tiff'\n",
    "psfdi_name = '/workspace/stpotter/git/bitbucket/dic/data/DOSA_cropped_gray_pad_0.tiff'\n",
    "def_image = cv2.imread(dic_name, -1)  # Read in image 'as is'\n",
    "#def_image = def_image.astype('uint8')"
   ]
  },
  {
   "cell_type": "code",
   "execution_count": null,
   "metadata": {},
   "outputs": [],
   "source": [
    "# Display\n",
    "plt.imshow(def_image, cmap='gray')"
   ]
  },
  {
   "cell_type": "markdown",
   "metadata": {},
   "source": [
    "## Deform Ref Image"
   ]
  },
  {
   "cell_type": "code",
   "execution_count": null,
   "metadata": {},
   "outputs": [],
   "source": [
    "# Translate image\n",
    "dx = 0.0\n",
    "dy = 0.0\n",
    "f11 = 1.01\n",
    "f12 = 0.0\n",
    "f21 = 0.0\n",
    "f22 = 1.0\n",
    "f = np.array([[f11, f12],\n",
    "             [f21, f22]])\n",
    "finv = np.linalg.inv(f)\n",
    "f11i = finv[0, 0]\n",
    "f12i = finv[0, 1]\n",
    "f21i = finv[1, 0]\n",
    "f22i = finv[1, 1]\n",
    "transx = np.array([[f11i, f12i, dx],\n",
    "                   [f21i, f22i, dy]])\n",
    "ref_image = image_processing.im_warp(def_image, transx)"
   ]
  },
  {
   "cell_type": "code",
   "execution_count": null,
   "metadata": {},
   "outputs": [],
   "source": [
    "# Display\n",
    "plt.imshow(ref_image, cmap='gray')"
   ]
  },
  {
   "cell_type": "markdown",
   "metadata": {},
   "source": [
    "## Manually Specify Region of Interest"
   ]
  },
  {
   "cell_type": "code",
   "execution_count": null,
   "metadata": {},
   "outputs": [],
   "source": [
    "# Format: [column index for start of X, column index for end of X, row index for start of Y, row index for end of Y]\n",
    "subregion_indices = np.array([125, 375, 125, 375])"
   ]
  },
  {
   "cell_type": "markdown",
   "metadata": {},
   "source": [
    "## Setup reference mesh"
   ]
  },
  {
   "cell_type": "code",
   "execution_count": null,
   "metadata": {},
   "outputs": [],
   "source": [
    "# Control Points\n",
    "rowmin = subregion_indices[-2:].min()\n",
    "rowmax = subregion_indices[-2:].max()\n",
    "colmin = subregion_indices[:2].min()\n",
    "colmax = subregion_indices[:2].max()\n",
    "x = np.linspace(colmin, colmax, 4)\n",
    "y = np.linspace(rowmin, rowmax, 4)\n",
    "coords = np.zeros((len(x) * len(y), 2))\n",
    "k = 0\n",
    "for i in range(0, len(x)):\n",
    "    for j in range(0, len(y)):\n",
    "        coords[k, :] = np.array([x[i], y[j]])\n",
    "        k += 1"
   ]
  },
  {
   "cell_type": "code",
   "execution_count": null,
   "metadata": {},
   "outputs": [],
   "source": [
    "# Surface\n",
    "ref_surf = bs.Surface()\n",
    "\n",
    "ref_surf.degree_u = 3\n",
    "ref_surf.degree_v = 3\n",
    "\n",
    "num_ctrlpts = np.sqrt(len(coords)).astype('int')\n",
    "\n",
    "ref_surf.set_ctrlpts(coords.tolist(), num_ctrlpts, num_ctrlpts)\n",
    "\n",
    "ref_surf.knotvector_u = gutil.generate_knot_vector(ref_surf.degree_u, num_ctrlpts)\n",
    "ref_surf.knotvector_v = gutil.generate_knot_vector(ref_surf.degree_v, num_ctrlpts)\n",
    "\n",
    "ref_surf.delta = 0.01"
   ]
  },
  {
   "cell_type": "code",
   "execution_count": null,
   "metadata": {},
   "outputs": [],
   "source": [
    "# Plot the mesh nodes on the original image\n",
    "# Would be nice to be able to visualize full mesh\n",
    "x = coords[:, 0]\n",
    "y = coords[:, 1]\n",
    "fig, ax = plt.subplots(figsize=(10, 20))\n",
    "ax.imshow(ref_image, cmap='gray')\n",
    "ax.plot(x, y, 'o', color='red')\n",
    "plt.show()"
   ]
  },
  {
   "cell_type": "markdown",
   "metadata": {},
   "source": [
    "## Test Synthetically Deforming Ctrlpts"
   ]
  },
  {
   "cell_type": "code",
   "execution_count": null,
   "metadata": {},
   "outputs": [],
   "source": [
    "F = np.array([[f11, f12],\n",
    "             [f21, f22]])\n",
    "\n",
    "coords_new = np.zeros((len(coords), 2))\n",
    "\n",
    "for i in range(len(coords_new)):\n",
    "    coords_new[i, :] = np.matmul(F, coords[i, :]) + np.array([dx, dy])"
   ]
  },
  {
   "cell_type": "code",
   "execution_count": null,
   "metadata": {},
   "outputs": [],
   "source": [
    "# Set up new surface\n",
    "disp_surf = bs.Surface()\n",
    "\n",
    "disp_surf.degree_u = 3\n",
    "disp_surf.degree_v = 3\n",
    "\n",
    "num_ctrlpts = np.sqrt(len(coords_new)).astype('int')\n",
    "\n",
    "disp_surf.set_ctrlpts(coords_new.tolist(), num_ctrlpts, num_ctrlpts)\n",
    "\n",
    "disp_surf.knotvector_u = gutil.generate_knot_vector(disp_surf.degree_u, num_ctrlpts)\n",
    "disp_surf.knotvector_v = gutil.generate_knot_vector(disp_surf.degree_v, num_ctrlpts)\n",
    "\n",
    "disp_surf.delta = 0.01"
   ]
  },
  {
   "cell_type": "code",
   "execution_count": null,
   "metadata": {},
   "outputs": [],
   "source": [
    "# Compute control point displacements\n",
    "coords_disp = coords_new - coords\n",
    "synth_disp = np.ndarray.flatten(coords_disp)\n",
    "\n",
    "# Compute mesh_znssd\n",
    "analysis.mesh_znssd(ref_image, def_image, ref_surf, coords_disp)"
   ]
  },
  {
   "cell_type": "code",
   "execution_count": null,
   "metadata": {},
   "outputs": [],
   "source": [
    "coords_new"
   ]
  },
  {
   "cell_type": "markdown",
   "metadata": {},
   "source": [
    "## Pack necessary arguments into a tuple"
   ]
  },
  {
   "cell_type": "code",
   "execution_count": null,
   "metadata": {},
   "outputs": [],
   "source": [
    "arg_tup = (ref_image, def_image, ref_surf)"
   ]
  },
  {
   "cell_type": "markdown",
   "metadata": {},
   "source": [
    "## Wrap minfun in scipy optimization library"
   ]
  },
  {
   "cell_type": "code",
   "execution_count": null,
   "metadata": {},
   "outputs": [],
   "source": [
    "# Compute rigid initial correlation with 2d correlation\n",
    "rowmid = int(np.mean([rowmin, rowmax]))\n",
    "colmid = int(np.mean([colmin, colmax]))\n",
    "\n",
    "# Get subimage\n",
    "subimage = np.copy(ref_image[subregion_indices[2]:subregion_indices[3], subregion_indices[0]:subregion_indices[1]])\n",
    "\n",
    "# Normalize images\n",
    "ref_subnorm = subimage - subimage.mean()\n",
    "def_norm = def_image - def_image.mean()\n",
    "\n",
    "# Correlate\n",
    "corr = sig.correlate2d(def_norm, ref_subnorm, boundary='symm', mode='same')\n",
    "midy, midx = np.unravel_index(np.argmax(corr), corr.shape)\n",
    "\n",
    "initx = (midx + 1) - colmid\n",
    "inity = (midy + 1) - rowmid\n",
    "\n",
    "# Setup initial displacement vector\n",
    "int_disp_vec = np.zeros(2*len(coords))\n",
    "for i in range(0, len(int_disp_vec), 2):\n",
    "    int_disp_vec[i] = initx\n",
    "    int_disp_vec[i+1] = inity\n",
    "\n",
    "# compute mesh znssd one time and exit if its low enough\n",
    "\n",
    "residual = minfun_nm(int_disp_vec, *arg_tup)\n",
    "\n",
    "if residual > 1e-6:\n",
    "    print('Begin minimization')\n",
    "    result = sciopt.minimize(analysis.scipy_minfun, int_disp_vec, args=arg_tup, method='L-BFGS-B', jac='2-point', bounds=None, options={'maxiter': 10, 'disp': True})\n",
    "\n",
    "print('Actual Rigid X Displacement: {}'.format(dx))\n",
    "print('Actual Rigid Y Displacement: {}'.format(dy))\n",
    "print('Mesh Details: {} by {}'.format(num_ctrlpts, num_ctrlpts))\n",
    "print('Initial Guess -  X Displacement: {}'.format(initx))\n",
    "print('Initial Guess - Y Displacement: {}'.format(inity))\n",
    "\n",
    "if residual > 1e-6:\n",
    "    print('residual')\n",
    "    print(result.fun)\n",
    "    print('final control point displacements')\n",
    "    print(result.x)\n",
    "else:\n",
    "    print('residual')\n",
    "    print(residual)\n",
    "    print('final control point displacement')\n",
    "    print(int_disp_vec)"
   ]
  },
  {
   "cell_type": "markdown",
   "metadata": {},
   "source": [
    "## Visualize displacement results"
   ]
  },
  {
   "cell_type": "code",
   "execution_count": null,
   "metadata": {},
   "outputs": [],
   "source": [
    "# Create control point displacement vectors from minimization results\n",
    "disp_cpts = np.column_stack((int_disp_vec[::2], int_disp_vec[1::2]))"
   ]
  },
  {
   "cell_type": "code",
   "execution_count": null,
   "metadata": {},
   "outputs": [],
   "source": [
    "# Set up new surface\n",
    "disp_surf = bs.Surface()\n",
    "\n",
    "disp_surf.degree_u = 3\n",
    "disp_surf.degree_v = 3\n",
    "\n",
    "#num_ctrlpts = np.sqrt(len(disp_cpts)).astype('int')\n",
    "\n",
    "#disp_surf.set_ctrlpts(disp_cpts.tolist(), num_ctrlpts, num_ctrlpts)\n",
    "\n",
    "disp_surf.set_ctrlpts(coords_disp.tolist(), num_ctrlpts, num_ctrlpts)\n",
    "\n",
    "disp_surf.knotvector_u = gutil.generate_knot_vector(disp_surf.degree_u, num_ctrlpts)\n",
    "disp_surf.knotvector_v = gutil.generate_knot_vector(disp_surf.degree_v, num_ctrlpts)\n",
    "\n",
    "disp_surf.delta = 0.01"
   ]
  },
  {
   "cell_type": "code",
   "execution_count": null,
   "metadata": {},
   "outputs": [],
   "source": [
    "# Fill x and y displacement arrays\n",
    "U = np.zeros(ref_image.shape) * np.nan\n",
    "V = np.zeros(ref_image.shape) * np.nan\n",
    "\n",
    "for i in range(rowmin, rowmax):\n",
    "    for j in range(colmin, colmax):\n",
    "        u_val = (j - colmin) / (colmax - colmin)\n",
    "        v_val = (i - rowmin) / (rowmax - rowmin)\n",
    "        disp = disp_surf.surfpt(u_val, v_val)\n",
    "        U[i, j] = disp[0]\n",
    "        V[i, j] = disp[1]\n",
    "        "
   ]
  },
  {
   "cell_type": "code",
   "execution_count": null,
   "metadata": {
    "scrolled": true
   },
   "outputs": [],
   "source": [
    "# Display\n",
    "fig, (ax0, ax1) = plt.subplots(1, 2, figsize=(10, 10))\n",
    "im0 = ax0.imshow(ref_image, cmap='gray')\n",
    "Uim = ax0.imshow(U, cmap='jet', alpha=0.7)\n",
    "divider = make_axes_locatable(ax0)\n",
    "cax0 = divider.append_axes('right', size='5%', pad=0.05)\n",
    "fig.colorbar(Uim, cax=cax0)\n",
    "Umin = 0.9 * np.nanmin(U)\n",
    "Umax = 1.1 * np.nanmax(U)\n",
    "Uim.set_clim(Umin, Umax)\n",
    "ax0.set_title('X Displacement (Pixels)')\n",
    "\n",
    "im1 = ax1.imshow(ref_image, cmap='gray')\n",
    "Vim = ax1.imshow(V, cmap='jet', alpha=0.7)\n",
    "divider = make_axes_locatable(ax1)\n",
    "cax1 = divider.append_axes('right', size='5%', pad=0.05)\n",
    "fig.colorbar(Vim, cax=cax1)\n",
    "Vmin = 0.9 * np.nanmin(V)\n",
    "Vmax = 0.9 * np.nanmax(V)\n",
    "Vim.set_clim(Vmin, Vmax)\n",
    "ax1.set_title('Y Displacement (Pixels)')"
   ]
  },
  {
   "cell_type": "markdown",
   "metadata": {},
   "source": [
    "## Visualize deformation results"
   ]
  },
  {
   "cell_type": "code",
   "execution_count": null,
   "metadata": {},
   "outputs": [],
   "source": [
    "# Function to compute J^-1\n",
    "\n",
    "def jac_inv(surf, u, v):\n",
    "    \n",
    "    '''\n",
    "    Compute inverse of jacobian given a NURBS surface and u, v parametric coordinates\n",
    "    \n",
    "    :param surf: NURBS surface\n",
    "    :type surf: NURBS surface object\n",
    "    :param u: u parametric location\n",
    "    :type u: float\n",
    "    :param v: v parametric location\n",
    "    :type v: float\n",
    "    :returns: computed inverse jacobian\n",
    "    :rtype: ndarray\n",
    "    '''\n",
    "    \n",
    "    # Prefill matrix\n",
    "    matrix = np.zeros((2, 2))\n",
    "    \n",
    "    # Compute surface derivatives\n",
    "    derivs = surf.tangent((u, v), normalize=False)\n",
    "    \n",
    "    # Fill matrix\n",
    "    # x1_u\n",
    "    matrix[0, 0] = derivs[1][0]\n",
    "    # x1_v\n",
    "    matrix[0, 1] = derivs[1][1]\n",
    "    # x2_u\n",
    "    matrix[1, 0] = derivs[2][0]\n",
    "    # x2_v\n",
    "    matrix[1, 1] = derivs[2][1]\n",
    "    \n",
    "    # Compute inverse\n",
    "    inv = np.linalg.inv(matrix)\n",
    "    \n",
    "    return inv\n",
    "\n",
    "\n",
    "# Function to compute R_u (passing params for now, may not be faster? Better way to avoid . methods?)\n",
    "\n",
    "def R_u(deg_u, deg_v, kvec_u, kvec_v, span_u, span_v, u, v):\n",
    "    \n",
    "    '''\n",
    "    Compute the partial derivative of the surface basis function wrt parametric coordinates\n",
    "    \n",
    "    See Piegl & Tiller Eq. 3.17 for reference\n",
    "    \n",
    "    :param deg_u: degree of basis functions in u direction\n",
    "    :type deg_u: int\n",
    "    :param deg_v: degree of basis functions in v direction\n",
    "    :type deg_v: int\n",
    "    :param kvec_u: knot vector in u direction\n",
    "    :type kvec_u: ndarray\n",
    "    :param kvec_v: knot vector in v direction\n",
    "    :type kvec_v: ndarray\n",
    "    :param span_u: basis function number in u direction\n",
    "    :type span_u: int\n",
    "    :param span_v: basis function number in v direction\n",
    "    :type span_v: int\n",
    "    :param u: u parametric coordinate\n",
    "    :type u: float\n",
    "    :param v: v parametric coordinate\n",
    "    :type v: float\n",
    "    '''\n",
    "      \n",
    "    # protoype function calls\n",
    "    basis_der = helpers.basis_function_ders_one\n",
    "    basis_one = helpers.basis_function_one\n",
    "    \n",
    "    # Get u derivative\n",
    "    deriv_u = basis_der(deg_u, kvec_u, span_u, u, 1)[1] * basis_one(deg_v, kvec_v, span_v, v)\n",
    "    \n",
    "    # Get v derivative\n",
    "    deriv_v = basis_one(deg_u, kvec_u, span_u, u) * basis_der(deg_v, kvec_v, span_v, v, 1)[1]\n",
    "    \n",
    "    return np.array([deriv_u, deriv_v])\n",
    "\n",
    "\n",
    "# Function to compute F (vectorizable?)\n",
    "\n",
    "def def_grad(surf, u, v, disp_vec):\n",
    "    \n",
    "    '''\n",
    "    Compute the components of the spatial derivatives of a NURBS mesh at a u, v location\n",
    "    \n",
    "    :param surf: NURBS surface on which to compute spatial derivatives\n",
    "    :type surf: NURBS surface object\n",
    "    :param u: u parametric coordinate\n",
    "    :type u: float\n",
    "    :param v: v parametric coordinate\n",
    "    :type v: float\n",
    "    :param disp_vec: array of control point displacements [delta x, delta y]\n",
    "    :type disp_vec: ndarray\n",
    "    :return: vector containing spatial derivatives of the NURBS surface evaluated at that coordinate location\n",
    "    '''\n",
    "    \n",
    "    # Compute J^-1\n",
    "    Jinv = jac_inv(surf, u, v)\n",
    "    \n",
    "    # Pull out surface info\n",
    "    deg_u = surf.degree_u\n",
    "    deg_v = surf.degree_v\n",
    "    kvec_u = surf.knotvector_u\n",
    "    kvec_v = surf.knotvector_v\n",
    "    ctrl_u = surf.ctrlpts_size_u\n",
    "    ctrl_v = surf.ctrlpts_size_v\n",
    "    \n",
    "    F = np.zeros((2, 2))\n",
    "    k = 0\n",
    "    \n",
    "    for spanu in range(0, ctrl_u):\n",
    "        for spanv in range(0, ctrl_v):\n",
    "            \n",
    "            # Compute parametric derivatives\n",
    "            dRdu = R_u(deg_u, deg_v, kvec_u, kvec_v, spanu, spanv, u, v)\n",
    "            \n",
    "            # Multiply with J^-1\n",
    "            dRdx = np.matmul(dRdu, Jinv)\n",
    "            \n",
    "            # Fill F\n",
    "            F[0, 0] += dRdx[0] * disp_vec[k, 0]  # d delta x1 dx1\n",
    "            F[0, 1] += dRdx[1] * disp_vec[k, 0]  # d delta x1 dx2\n",
    "            F[1, 0] += dRdx[0] * disp_vec[k, 1]  # d delta x2 dx1\n",
    "            F[1, 1] += dRdx[1] * disp_vec[k, 1]  # d delta x2 dx2\n",
    "            \n",
    "            # Bump incrementer\n",
    "            k += 1\n",
    "    \n",
    "    # Add identity tensor\n",
    "    F += np.eye(2)\n",
    "            \n",
    "    return F\n",
    "\n",
    "            "
   ]
  },
  {
   "cell_type": "code",
   "execution_count": null,
   "metadata": {},
   "outputs": [],
   "source": [
    "def_grad(ref_surf, 0.5, 0.5, coords_disp)"
   ]
  },
  {
   "cell_type": "code",
   "execution_count": null,
   "metadata": {},
   "outputs": [],
   "source": [
    "# Surface approach\n",
    "def def_grad_surf(surf, u, v):\n",
    "    \n",
    "    '''\n",
    "    Compue deformation gradient via a NURBS surface interpolation of control point displacement at u, v parametric coordinates\n",
    "    \n",
    "    :param surf: NURBS surface interpolating control point displacements\n",
    "    :type surf: NURBS surface object\n",
    "    :param u: u parametric location\n",
    "    :type u: float\n",
    "    :param v: v parametric location\n",
    "    :type v: float\n",
    "    :returns: computed inverse jacobian\n",
    "    :rtype: ndarray\n",
    "    '''\n",
    "    \n",
    "    F = np.zeros((2, 2))\n",
    "    \n",
    "    tangents = surf.tangent((u, v), normalize=False)\n",
    "    \n",
    "    F[0, 0] = 1 + tangents[1][0]  # d delta x1 dx1\n",
    "    F[0, 1] = tangents[1][1]  # d delta x1 dx2\n",
    "    F[1, 0] = tangents[2][1]  # d delta x2 dx1\n",
    "    F[1, 1] = 1 + tangents[2][1]  # d delta x2 dx2\n",
    "    \n",
    "    return F\n",
    "    "
   ]
  },
  {
   "cell_type": "code",
   "execution_count": null,
   "metadata": {},
   "outputs": [],
   "source": [
    "def_grad_surf(disp_surf, .8, 0.5)"
   ]
  },
  {
   "cell_type": "code",
   "execution_count": null,
   "metadata": {},
   "outputs": [],
   "source": [
    "# Fill x and y displacement arrays\n",
    "F11 = np.zeros(ref_image.shape) * np.nan\n",
    "F12 = np.zeros(ref_image.shape) * np.nan\n",
    "F21 = np.zeros(ref_image.shape) * np.nan\n",
    "F22 = np.zeros(ref_image.shape) * np.nan\n",
    "\n",
    "for i in range(rowmin, rowmax):\n",
    "    for j in range(colmin, colmax):\n",
    "        u_val = (j - colmin) / (colmax - colmin)\n",
    "        v_val = (i - rowmin) / (rowmax - rowmin)\n",
    "        #F = def_grad_surf(disp_surf, u_val, v_val)\n",
    "        F = def_grad(ref_surf, u_val, v_val, coords_disp)\n",
    "        F11[i, j] = F[0, 0]\n",
    "        F12[i, j] = F[0, 1]\n",
    "        F21[i, j] = F[1, 0]\n",
    "        F22[i, j] = F[1, 1]"
   ]
  },
  {
   "cell_type": "code",
   "execution_count": null,
   "metadata": {},
   "outputs": [],
   "source": [
    "# Display\n",
    "fig, ((ax0, ax1), (ax2, ax3)) = plt.subplots(2, 2, figsize=(15, 10))\n",
    "\n",
    "im0 = ax0.imshow(ref_image, cmap='gray')\n",
    "F11im = ax0.imshow(F11, cmap='jet', alpha=0.7)\n",
    "divider = make_axes_locatable(ax0)\n",
    "cax0 = divider.append_axes('right', size='5%', pad=0.05)\n",
    "fig.colorbar(F11im, cax=cax0)\n",
    "F11min = 0.9 * np.nanmin(F11)\n",
    "F11max = 1.1 * np.nanmax(F11)\n",
    "F11im.set_clim(F11min, F11max)\n",
    "ax0.set_title('F11')\n",
    "\n",
    "im1 = ax1.imshow(ref_image, cmap='gray')\n",
    "F12im = ax1.imshow(F12, cmap='jet', alpha=0.7)\n",
    "divider = make_axes_locatable(ax1)\n",
    "cax1 = divider.append_axes('right', size='5%', pad=0.05)\n",
    "fig.colorbar(F12im, cax=cax1)\n",
    "F12min = 0.9 * np.nanmin(F12)\n",
    "F12max = 1.1 * np.nanmax(F12)\n",
    "F12im.set_clim(F12min, F12max)\n",
    "ax1.set_title('F12')\n",
    "\n",
    "im2 = ax2.imshow(ref_image, cmap='gray')\n",
    "F21im = ax2.imshow(F21, cmap='jet', alpha=0.7)\n",
    "divider = make_axes_locatable(ax2)\n",
    "cax2 = divider.append_axes('right', size='5%', pad=0.05)\n",
    "fig.colorbar(F21im, cax=cax2)\n",
    "F21min = 0.9 * np.nanmin(F21)\n",
    "F21max = 1.1 * np.nanmax(F21)\n",
    "F21im.set_clim(F21min, F21max)\n",
    "ax2.set_title('F21')\n",
    "\n",
    "im3 = ax3.imshow(ref_image, cmap='gray')\n",
    "F22im = ax3.imshow(F22, cmap='jet', alpha=0.7)\n",
    "divider = make_axes_locatable(ax3)\n",
    "cax3 = divider.append_axes('right', size='5%', pad=0.05)\n",
    "fig.colorbar(F22im, cax=cax3)\n",
    "F22min = 0.9 * np.nanmin(F22)\n",
    "F22max = 1.1 * np.nanmax(F22)\n",
    "F22im.set_clim(F22min, F22max)\n",
    "ax3.set_title('F22')"
   ]
  },
  {
   "cell_type": "code",
   "execution_count": null,
   "metadata": {},
   "outputs": [],
   "source": [
    "F11[250, 250]"
   ]
  },
  {
   "cell_type": "code",
   "execution_count": null,
   "metadata": {},
   "outputs": [],
   "source": [
    "F22[250, 250]"
   ]
  },
  {
   "cell_type": "code",
   "execution_count": null,
   "metadata": {},
   "outputs": [],
   "source": []
  }
 ],
 "metadata": {
  "kernelspec": {
   "display_name": "Python (scidev)",
   "language": "python",
   "name": "scidev"
  },
  "language_info": {
   "codemirror_mode": {
    "name": "ipython",
    "version": 3
   },
   "file_extension": ".py",
   "mimetype": "text/x-python",
   "name": "python",
   "nbconvert_exporter": "python",
   "pygments_lexer": "ipython3",
   "version": "3.6.8"
  }
 },
 "nbformat": 4,
 "nbformat_minor": 2
}
