{
 "cells": [
  {
   "cell_type": "markdown",
   "metadata": {},
   "source": [
    "# Exploring & Testing Use of NURBS in DIC\n",
    "## Sam Potter\n",
    "## Current: 12/18/18"
   ]
  },
  {
   "cell_type": "markdown",
   "metadata": {},
   "source": [
    "## Path and Imports"
   ]
  },
  {
   "cell_type": "code",
   "execution_count": null,
   "metadata": {},
   "outputs": [],
   "source": [
    "# bootstrap $PATH\n",
    "import sys\n",
    "import os\n",
    "sys.path.extend(['C:\\\\Users\\\\potterst1\\\\Desktop\\Repositories\\BitBucket\\dic',\n",
    "                 'C:/Users/potterst1/Desktop/Repositories/BitBucket/dic'])\n",
    "sys.path.extend(['/workspace/stpotter/git/bitbucket/dic'])\n",
    "import warnings\n",
    "from dic import nurbs\n",
    "from dic import fileIO\n",
    "from dic import numerics\n",
    "from dic import analysis\n",
    "from dic import image_processing\n",
    "import cv2\n",
    "from matplotlib import pyplot as plt\n",
    "import numpy as np\n",
    "from geomdl import BSpline as bs\n",
    "from geomdl import utilities as gutil\n",
    "import scipy.optimize as sciopt"
   ]
  },
  {
   "cell_type": "markdown",
   "metadata": {},
   "source": [
    "## Magics"
   ]
  },
  {
   "cell_type": "code",
   "execution_count": null,
   "metadata": {},
   "outputs": [],
   "source": [
    "%matplotlib inline"
   ]
  },
  {
   "cell_type": "markdown",
   "metadata": {},
   "source": [
    "### Read in ref image file"
   ]
  },
  {
   "cell_type": "code",
   "execution_count": null,
   "metadata": {},
   "outputs": [],
   "source": [
    "# Read\n",
    "# Hard code absolute paths for now. Fix later'\n",
    "dic_name = 'C:\\\\Users\\\\potterst1\\\\Desktop\\\\Repositories\\\\BitBucket\\\\dic\\\\data\\\\DIC_S_cropped_gray_pad_0.tiff'\n",
    "psfdi_name = 'C:\\\\Users\\\\potterst1\\\\Desktop\\\\Repositories\\\\BitBucket\\\\dic\\\\data\\\\DOA_cropped_gray_pad_0.tiff'\n",
    "#dic_name = '/workspace/stpotter/git/bitbucket/dic/data/DIC_S_cropped_gray_pad_0.tiff'\n",
    "#psfdi_name = '/workspace/stpotter/git/bitbucket/dic/data/DOSA_cropped_gray_pad_0.tiff'\n",
    "ref_image = cv2.imread(dic_name, -1)  # Read in image 'as is'\n",
    "ref_image = ref_image.astype('uint8')"
   ]
  },
  {
   "cell_type": "code",
   "execution_count": null,
   "metadata": {},
   "outputs": [],
   "source": [
    "# Display\n",
    "plt.imshow(ref_image, cmap='gray')"
   ]
  },
  {
   "cell_type": "markdown",
   "metadata": {},
   "source": [
    "## Deform Ref Image"
   ]
  },
  {
   "cell_type": "code",
   "execution_count": null,
   "metadata": {},
   "outputs": [],
   "source": [
    "# Translate image in x\n",
    "transx = np.array([[1.0, 0.0, 25.0],\n",
    "                   [0.0, 1.0, 0.0]])\n",
    "def_image = image_processing.im_warp(ref_image, transx)"
   ]
  },
  {
   "cell_type": "code",
   "execution_count": null,
   "metadata": {},
   "outputs": [],
   "source": [
    "# Display\n",
    "plt.imshow(def_image, cmap='gray')"
   ]
  },
  {
   "cell_type": "markdown",
   "metadata": {},
   "source": [
    "## Manually Specify Region of Interest"
   ]
  },
  {
   "cell_type": "code",
   "execution_count": null,
   "metadata": {},
   "outputs": [],
   "source": [
    "# Format: [column index for start of X, column index for end of X, row index for start of Y, row index for end of Y]\n",
    "subregion_indices = np.array([100, 400, 100, 400])"
   ]
  },
  {
   "cell_type": "code",
   "execution_count": null,
   "metadata": {},
   "outputs": [],
   "source": [
    "# Extract these regions from ref image and plot\n",
    "ref_subimage = ref_image[subregion_indices[2]:subregion_indices[3], subregion_indices[0]:subregion_indices[1]]\n",
    "fig, ax = plt.subplots(figsize=(10, 20))\n",
    "ax.imshow(ref_subimage, cmap='gray')\n",
    "plt.show()"
   ]
  },
  {
   "cell_type": "markdown",
   "metadata": {},
   "source": [
    "## Setup reference mesh"
   ]
  },
  {
   "cell_type": "code",
   "execution_count": null,
   "metadata": {},
   "outputs": [],
   "source": [
    "# Control Points\n",
    "rowmin = subregion_indices[-2:].min()\n",
    "rowmax = subregion_indices[-2:].max()\n",
    "colmin = subregion_indices[:2].min()\n",
    "colmax = subregion_indices[:2].max()\n",
    "x = np.linspace(colmin, colmax, 4)\n",
    "y = np.linspace(rowmin, rowmax, 4)\n",
    "coords = np.zeros((len(x) * len(y), 2))\n",
    "k = 0\n",
    "for i in range(0, len(x)):\n",
    "    for j in range(0, len(y)):\n",
    "        coords[k, :] = np.array([x[i], y[j]])\n",
    "        k += 1"
   ]
  },
  {
   "cell_type": "code",
   "execution_count": null,
   "metadata": {},
   "outputs": [],
   "source": [
    "# Surface\n",
    "ref_surf = bs.Surface()\n",
    "\n",
    "ref_surf.degree_u = 3\n",
    "ref_surf.degree_v = 3\n",
    "\n",
    "num_ctrlpts = np.sqrt(len(coords)).astype('int')\n",
    "\n",
    "ref_surf.set_ctrlpts(coords.tolist(), num_ctrlpts, num_ctrlpts)\n",
    "\n",
    "ref_surf.knotvector_u = gutil.generate_knot_vector(ref_surf.degree_u, num_ctrlpts)\n",
    "ref_surf.knotvector_v = gutil.generate_knot_vector(ref_surf.degree_v, num_ctrlpts)\n",
    "\n",
    "ref_surf.delta = 0.001"
   ]
  },
  {
   "cell_type": "code",
   "execution_count": null,
   "metadata": {},
   "outputs": [],
   "source": [
    "# Plot the mesh nodes on the original image\n",
    "# Would be nice to be able to visualize full mesh\n",
    "x = coords[:, 0]\n",
    "y = coords[:, 1]\n",
    "fig, ax = plt.subplots(figsize=(10, 20))\n",
    "ax.imshow(ref_image, cmap='gray')\n",
    "ax.plot(x, y, 'o', color='green')\n",
    "plt.show()"
   ]
  },
  {
   "cell_type": "markdown",
   "metadata": {},
   "source": [
    "## Interpolate images"
   ]
  },
  {
   "cell_type": "code",
   "execution_count": null,
   "metadata": {},
   "outputs": [],
   "source": [
    "ref_coeffs = numerics.image_interp(ref_image, degree='cubic')\n",
    "def_coeffs = numerics.image_interp(def_image, degree='cubic')"
   ]
  },
  {
   "cell_type": "markdown",
   "metadata": {},
   "source": [
    "## Test mesh znssd"
   ]
  },
  {
   "cell_type": "code",
   "execution_count": null,
   "metadata": {},
   "outputs": [],
   "source": [
    "# setup deformation\n",
    "cpts_disp = np.column_stack((25 * np.ones(len(coords)), np.zeros(len(coords))))"
   ]
  },
  {
   "cell_type": "code",
   "execution_count": null,
   "metadata": {},
   "outputs": [],
   "source": [
    "# Plot the mesh nodes on the original image\n",
    "# Would be nice to be able to visualize full mesh\n",
    "x = coords[:, 0]\n",
    "y = coords[:, 1]\n",
    "defx = x + cpts_disp[:, 0]\n",
    "defy = y + cpts_disp[:, 1]\n",
    "fig, ax = plt.subplots(figsize=(10, 20))\n",
    "ax.imshow(ref_image, cmap='gray')\n",
    "ax.plot(x, y, 'o', color='green')\n",
    "ax.plot(defx, defy, 'o', color='red')\n",
    "plt.show()"
   ]
  },
  {
   "cell_type": "code",
   "execution_count": null,
   "metadata": {},
   "outputs": [],
   "source": [
    "%%timeit\n",
    "test_val = analysis.mesh_znssd(ref_image, def_image, ref_surf, cpts_disp, ref_coeff=ref_coeffs, def_coeff=def_coeffs)\n",
    "print(test_val)"
   ]
  },
  {
   "cell_type": "markdown",
   "metadata": {},
   "source": [
    "## Wrap this minfun in scipy optimization library\n",
    "\n",
    "### So this isn't really working either. Will need to figure out how to interpolate image"
   ]
  }
 ],
 "metadata": {
  "kernelspec": {
   "display_name": "Python (scidev)",
   "language": "python",
   "name": "scidev"
  },
  "language_info": {
   "codemirror_mode": {
    "name": "ipython",
    "version": 3
   },
   "file_extension": ".py",
   "mimetype": "text/x-python",
   "name": "python",
   "nbconvert_exporter": "python",
   "pygments_lexer": "ipython3",
   "version": "3.6.6"
  }
 },
 "nbformat": 4,
 "nbformat_minor": 2
}
