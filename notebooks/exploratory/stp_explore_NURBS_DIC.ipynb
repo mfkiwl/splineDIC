{
 "cells": [
  {
   "cell_type": "markdown",
   "metadata": {},
   "source": [
    "# Exploring & Testing Use of NURBS in DIC\n",
    "## Sam Potter\n",
    "## Current: 1/29/18"
   ]
  },
  {
   "cell_type": "markdown",
   "metadata": {},
   "source": [
    "## Path and Imports"
   ]
  },
  {
   "cell_type": "code",
   "execution_count": null,
   "metadata": {},
   "outputs": [],
   "source": [
    "# bootstrap $PATH\n",
    "import sys\n",
    "import os\n",
    "sys.path.extend(['C:\\\\Users\\\\potterst1\\\\Desktop\\Repositories\\BitBucket\\dic',\n",
    "                 'C:/Users/potterst1/Desktop/Repositories/BitBucket/dic'])\n",
    "sys.path.extend(['/workspace/stpotter/git/bitbucket/dic'])\n",
    "import warnings\n",
    "from dic import nurbs\n",
    "from dic import fileIO\n",
    "from dic import numerics\n",
    "from dic import analysis\n",
    "from dic import image_processing\n",
    "import cv2\n",
    "from matplotlib import pyplot as plt\n",
    "import numpy as np\n",
    "from geomdl import BSpline as bs\n",
    "from geomdl import utilities as gutil\n",
    "import scipy.optimize as sciopt"
   ]
  },
  {
   "cell_type": "markdown",
   "metadata": {},
   "source": [
    "## Magics"
   ]
  },
  {
   "cell_type": "code",
   "execution_count": null,
   "metadata": {},
   "outputs": [],
   "source": [
    "%matplotlib inline"
   ]
  },
  {
   "cell_type": "markdown",
   "metadata": {},
   "source": [
    "### Read in ref image file"
   ]
  },
  {
   "cell_type": "code",
   "execution_count": null,
   "metadata": {},
   "outputs": [],
   "source": [
    "# Read\n",
    "# Hard code absolute paths for now. Fix later'\n",
    "dic_name = 'C:\\\\Users\\\\potterst1\\\\Desktop\\\\Repositories\\\\BitBucket\\\\dic\\\\data\\\\DIC_S_cropped_gray_pad_0.tiff'\n",
    "psfdi_name = 'C:\\\\Users\\\\potterst1\\\\Desktop\\\\Repositories\\\\BitBucket\\\\dic\\\\data\\\\DOA_cropped_gray_pad_0.tiff'\n",
    "dic_name = '/workspace/stpotter/git/bitbucket/dic/data/DIC_S_cropped_gray_pad_0.tiff'\n",
    "psfdi_name = '/workspace/stpotter/git/bitbucket/dic/data/DOSA_cropped_gray_pad_0.tiff'\n",
    "ref_image = cv2.imread(dic_name, -1)  # Read in image 'as is'\n",
    "ref_image = ref_image.astype('uint8')"
   ]
  },
  {
   "cell_type": "code",
   "execution_count": null,
   "metadata": {},
   "outputs": [],
   "source": [
    "# Display\n",
    "plt.imshow(ref_image, cmap='gray')"
   ]
  },
  {
   "cell_type": "markdown",
   "metadata": {},
   "source": [
    "## Deform Ref Image"
   ]
  },
  {
   "cell_type": "code",
   "execution_count": null,
   "metadata": {},
   "outputs": [],
   "source": [
    "# Translate image in x\n",
    "transx = np.array([[1.0, 0.0, 5.0],\n",
    "                   [0.0, 1.0, 0.0]])\n",
    "def_image = image_processing.im_warp(ref_image, transx)"
   ]
  },
  {
   "cell_type": "code",
   "execution_count": null,
   "metadata": {},
   "outputs": [],
   "source": [
    "# Display\n",
    "plt.imshow(def_image, cmap='gray')"
   ]
  },
  {
   "cell_type": "markdown",
   "metadata": {},
   "source": [
    "## Manually Specify Region of Interest"
   ]
  },
  {
   "cell_type": "code",
   "execution_count": null,
   "metadata": {},
   "outputs": [],
   "source": [
    "# Format: [column index for start of X, column index for end of X, row index for start of Y, row index for end of Y]\n",
    "subregion_indices = np.array([225, 275, 225, 275])"
   ]
  },
  {
   "cell_type": "code",
   "execution_count": null,
   "metadata": {},
   "outputs": [],
   "source": [
    "# Extract these regions from ref image and plot\n",
    "ref_subimage = ref_image[subregion_indices[2]:subregion_indices[3], subregion_indices[0]:subregion_indices[1]]\n",
    "fig, ax = plt.subplots(figsize=(10, 20))\n",
    "ax.imshow(ref_subimage, cmap='gray')\n",
    "plt.show()"
   ]
  },
  {
   "cell_type": "markdown",
   "metadata": {},
   "source": [
    "## Setup reference mesh"
   ]
  },
  {
   "cell_type": "code",
   "execution_count": null,
   "metadata": {},
   "outputs": [],
   "source": [
    "# Control Points\n",
    "rowmin = subregion_indices[-2:].min()\n",
    "rowmax = subregion_indices[-2:].max()\n",
    "colmin = subregion_indices[:2].min()\n",
    "colmax = subregion_indices[:2].max()\n",
    "x = np.linspace(colmin, colmax, 4)\n",
    "y = np.linspace(rowmin, rowmax, 4)\n",
    "coords = np.zeros((len(x) * len(y), 2))\n",
    "k = 0\n",
    "for i in range(0, len(x)):\n",
    "    for j in range(0, len(y)):\n",
    "        coords[k, :] = np.array([x[i], y[j]])\n",
    "        k += 1"
   ]
  },
  {
   "cell_type": "code",
   "execution_count": null,
   "metadata": {},
   "outputs": [],
   "source": [
    "# Surface\n",
    "ref_surf = bs.Surface()\n",
    "\n",
    "ref_surf.degree_u = 3\n",
    "ref_surf.degree_v = 3\n",
    "\n",
    "num_ctrlpts = np.sqrt(len(coords)).astype('int')\n",
    "\n",
    "ref_surf.set_ctrlpts(coords.tolist(), num_ctrlpts, num_ctrlpts)\n",
    "\n",
    "ref_surf.knotvector_u = gutil.generate_knot_vector(ref_surf.degree_u, num_ctrlpts)\n",
    "ref_surf.knotvector_v = gutil.generate_knot_vector(ref_surf.degree_v, num_ctrlpts)\n",
    "\n",
    "ref_surf.delta = 0.01"
   ]
  },
  {
   "cell_type": "code",
   "execution_count": null,
   "metadata": {},
   "outputs": [],
   "source": [
    "# Plot the mesh nodes on the original image\n",
    "# Would be nice to be able to visualize full mesh\n",
    "x = coords[:, 0]\n",
    "y = coords[:, 1]\n",
    "fig, ax = plt.subplots(figsize=(10, 20))\n",
    "ax.imshow(ref_image, cmap='gray')\n",
    "ax.plot(x, y, 'o', color='green')\n",
    "plt.show()"
   ]
  },
  {
   "cell_type": "markdown",
   "metadata": {},
   "source": [
    "## Pack necessary arguments into a tuple"
   ]
  },
  {
   "cell_type": "code",
   "execution_count": null,
   "metadata": {},
   "outputs": [],
   "source": [
    "arg_tup = (ref_image, def_image, ref_surf)"
   ]
  },
  {
   "cell_type": "markdown",
   "metadata": {},
   "source": [
    "## Write minfun to pass to scipy optimize"
   ]
  },
  {
   "cell_type": "code",
   "execution_count": null,
   "metadata": {},
   "outputs": [],
   "source": [
    "def minfun_nm(disp_vec, *args):\n",
    "    \n",
    "    '''\n",
    "    Minimizatin function for passing to scipy minimize using Nelder-Mead method\n",
    "    \n",
    "    Assembles solution vector and arguments, then passes to mesh_znssd to compute cost\n",
    "    \n",
    "    :param disp_vec: trial displacement vector. Shape is (1, 2*num_ctrltps) and is orderd\n",
    "    [delta x0, delta y0, delta x1, delta y1, etc.]\n",
    "    :type disp_vec: ndarray\n",
    "    return: scalar value of mesh znssd at the trial displacement vector\n",
    "    :rtype: float\n",
    "    '''\n",
    "       \n",
    "    # Assemble displacement vector\n",
    "    ctrlpt_disp = np.zeros((int(len(disp_vec)/2), 2))\n",
    "    for i in range(0, len(disp_vec), 2):\n",
    "        k = i // 2  # Modulo to keep the index from over running length of ctrlpt_disp\n",
    "        ctrlpt_disp[k, :] = np.array([disp_vec[i], disp_vec[i + 1]])\n",
    "        \n",
    "    # Call znssd with defaults on all keyward params. This will make it a bit slower, but whatever for now\n",
    "    znssd = analysis.mesh_znssd(*args, ctrlpt_disp)\n",
    "    \n",
    "    return znssd\n",
    "    "
   ]
  },
  {
   "cell_type": "markdown",
   "metadata": {},
   "source": [
    "## Wrap this minfun in scipy optimization library"
   ]
  },
  {
   "cell_type": "code",
   "execution_count": null,
   "metadata": {},
   "outputs": [],
   "source": [
    "# Setup initial displacement vector\n",
    "int_disp_vec = np.zeros(2*len(coords))\n",
    "for i in range(0, len(int_disp_vec), 2):\n",
    "    int_disp_vec[i] = 1.0\n",
    "    int_disp_vec[i+1] = 0.0"
   ]
  },
  {
   "cell_type": "code",
   "execution_count": null,
   "metadata": {},
   "outputs": [],
   "source": [
    "# Call scipy minimize\n",
    "sciopt.minimize(minfun_nm, int_disp_vec, args=arg_tup, method='Nelder-Mead')"
   ]
  }
 ],
 "metadata": {
  "kernelspec": {
   "display_name": "Python (scidev)",
   "language": "python",
   "name": "scidev"
  },
  "language_info": {
   "codemirror_mode": {
    "name": "ipython",
    "version": 3
   },
   "file_extension": ".py",
   "mimetype": "text/x-python",
   "name": "python",
   "nbconvert_exporter": "python",
   "pygments_lexer": "ipython3",
   "version": "3.6.8"
  }
 },
 "nbformat": 4,
 "nbformat_minor": 2
}
