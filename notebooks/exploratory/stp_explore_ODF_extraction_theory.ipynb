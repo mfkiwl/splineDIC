{
 "cells": [
  {
   "cell_type": "markdown",
   "metadata": {},
   "source": [
    "# Exploring ODF Extraction\n",
    "## Sam Potter\n",
    "## Current: 4/1/19"
   ]
  },
  {
   "cell_type": "markdown",
   "metadata": {},
   "source": [
    "## Path and Imports"
   ]
  },
  {
   "cell_type": "code",
   "execution_count": null,
   "metadata": {},
   "outputs": [],
   "source": [
    "import sys\n",
    "import os\n",
    "\n",
    "sys.path.extend(['C:\\\\Users\\\\potterst1\\\\Desktop\\Repositories\\BitBucket\\dic',\n",
    "                 'C:/Users/potterst1/Desktop/Repositories/BitBucket/dic'])\n",
    "sys.path.extend(['/workspace/stpotter/git/bitbucket/dic'])\n",
    "from dic import visualize\n",
    "from dic import fileIO\n",
    "from matplotlib import pyplot as plt\n",
    "import numpy as np\n",
    "from mpl_toolkits.axes_grid1 import make_axes_locatable\n",
    "from matplotlib import patches\n",
    "from matplotlib import rc\n",
    "from dic import utilities\n",
    "import seaborn as sns\n",
    "import cv2\n",
    "import matplotlib\n",
    "\n",
    "from ipywidgets import *\n",
    "from scipy import optimize as sciopt"
   ]
  },
  {
   "cell_type": "markdown",
   "metadata": {},
   "source": [
    "## Magics"
   ]
  },
  {
   "cell_type": "code",
   "execution_count": null,
   "metadata": {},
   "outputs": [],
   "source": [
    "%matplotlib inline"
   ]
  },
  {
   "cell_type": "markdown",
   "metadata": {},
   "source": [
    "## Optical Mathematics"
   ]
  },
  {
   "cell_type": "markdown",
   "metadata": {},
   "source": [
    "### Cylindrical scattering for single fiber"
   ]
  },
  {
   "cell_type": "markdown",
   "metadata": {},
   "source": [
    "$I_{fiber}(\\theta) = a_0 + a_2 \\cos(2(\\theta - \\phi)) + a_4 \\cos(4(\\theta - \\phi))$"
   ]
  },
  {
   "cell_type": "markdown",
   "metadata": {},
   "source": [
    "### Cylindrical scattering for a distribution of fibers"
   ]
  },
  {
   "cell_type": "markdown",
   "metadata": {},
   "source": [
    "$I_{dist}(\\theta) = \\int_{-\\pi/2}^{\\pi/2} I_{fiber}(\\theta) PDF_{dist}(\\theta) d \\theta$\n",
    "\n",
    "NOTE, CONVOLUTION OPERATION IS TREATED AS JUST SUMMATION AND NORMALIZATION IN THE WORK BELOW. CORRECT???"
   ]
  },
  {
   "cell_type": "markdown",
   "metadata": {},
   "source": [
    "## Setup Single Fiber Cosine Series"
   ]
  },
  {
   "cell_type": "markdown",
   "metadata": {},
   "source": [
    "### Definition of single fiber function"
   ]
  },
  {
   "cell_type": "code",
   "execution_count": null,
   "metadata": {},
   "outputs": [],
   "source": [
    "def Ifiber(a0, a2, a4, phi, numpts=100, normalize=True):\n",
    "    \n",
    "    theta = np.linspace(-90, 90, numpts)\n",
    "    \n",
    "    vals = a0 + a2 * np.cos(np.deg2rad(2 * (theta - phi))) + a4 * np.cos(np.deg2rad(4 * (theta - phi)))\n",
    "    \n",
    "    if normalize:\n",
    "        vals = utilities.normalize_1d(vals)\n",
    "    \n",
    "    return vals, theta"
   ]
  },
  {
   "cell_type": "code",
   "execution_count": null,
   "metadata": {},
   "outputs": [],
   "source": [
    "def Ifiber_interactive(a0, a2, a4, phi, numpts=100, normalize=True):\n",
    "    \n",
    "    theta = np.linspace(-90, 90, numpts)\n",
    "    \n",
    "    vals = a0 + a2 * np.cos(np.deg2rad(2 * (theta - phi))) + a4 * np.cos(np.deg2rad(4 * (theta - phi)))\n",
    "    \n",
    "    if normalize:\n",
    "        vals = utilities.normalize_1d(vals)\n",
    "    \n",
    "    fig = plt.figure(figsize=(10, 10))\n",
    "    plt.plot(theta, vals, color='g', label='Intensity');\n",
    "    plt.legend(prop={'size': 18});\n",
    "    plt.xlabel(r'$\\theta$', fontsize=18);\n",
    "    plt.ylabel('Normalized Intensity (a.u.)', fontsize=18);\n",
    "    plt.title('Normalized Intensity Curves of Single Fiber under Cylindrical Scattering', fontsize=18);\n",
    "    plt.autoscale(enable=True, axis='x', tight=True)\n",
    "    \n",
    "    print('a2/a4: {}'.format(a2/a4))"
   ]
  },
  {
   "cell_type": "markdown",
   "metadata": {},
   "source": [
    "### Plot a sample intensity function"
   ]
  },
  {
   "cell_type": "code",
   "execution_count": null,
   "metadata": {},
   "outputs": [],
   "source": [
    "p = interactive(Ifiber_interactive, a0=(0, 1, 0.1), a2=(0, 0.05, 0.005), a4=(0, 0.2, 0.02), phi=(-90, 90, 5), numpts=(100, 500, 10))\n",
    "display(p)"
   ]
  },
  {
   "cell_type": "markdown",
   "metadata": {},
   "source": [
    "## Look at Fiber Distributions"
   ]
  },
  {
   "cell_type": "markdown",
   "metadata": {},
   "source": [
    "### Setup Uniform Distribution"
   ]
  },
  {
   "cell_type": "code",
   "execution_count": null,
   "metadata": {},
   "outputs": [],
   "source": [
    "samples = np.random.uniform(-45, 45, 10000)"
   ]
  },
  {
   "cell_type": "code",
   "execution_count": null,
   "metadata": {},
   "outputs": [],
   "source": [
    "plt.hist(samples);"
   ]
  },
  {
   "cell_type": "markdown",
   "metadata": {},
   "source": [
    "### Setup Normal Distribution"
   ]
  },
  {
   "cell_type": "code",
   "execution_count": null,
   "metadata": {},
   "outputs": [],
   "source": [
    "samples = np.random.normal(0, 45, 10000)"
   ]
  },
  {
   "cell_type": "code",
   "execution_count": null,
   "metadata": {},
   "outputs": [],
   "source": [
    "plt.hist(samples);"
   ]
  },
  {
   "cell_type": "markdown",
   "metadata": {},
   "source": [
    "### Setup and generate samples"
   ]
  },
  {
   "cell_type": "code",
   "execution_count": null,
   "metadata": {},
   "outputs": [],
   "source": [
    "def syntheticIdist(a0, a2, a4, splay, nsamples, distribution='uniform'):\n",
    "    \n",
    "    ntheta = 100\n",
    "    Idist = np.zeros((nsamples, ntheta))\n",
    "    for i in range(0, nsamples):\n",
    "        if distribution == 'uniform':\n",
    "            phi = np.random.uniform(-1*splay, splay)\n",
    "        elif distribution == 'normal':\n",
    "            phi = np.random.normal(0, splay)\n",
    "\n",
    "        vals, theta_dist = Ifiber(a0, a2, a4, phi, numpts=ntheta, normalize=False)\n",
    "        Idist[i, :] = vals\n",
    "\n",
    "    Idist = np.sum(Idist, axis=0) / nsamples\n",
    "    #Idist = utilities.normalize_1d(Idist)\n",
    "    \n",
    "    return Idist"
   ]
  },
  {
   "cell_type": "code",
   "execution_count": null,
   "metadata": {},
   "outputs": [],
   "source": [
    "def compareI(a0, a2, a4, phi0, splay, nsamples, distribution='uniform'):\n",
    "    \n",
    "    ntheta = 100\n",
    "    Idist = np.zeros((nsamples, ntheta))\n",
    "    if distribution == 'uniform':\n",
    "        phis = np.random.uniform(-1*splay, splay, nsamples)\n",
    "    elif distribution == 'normal':\n",
    "        phis = np.random.normal(0, splay, nsamples)\n",
    "    for i in range(0, nsamples):\n",
    "        phi = phis[i]\n",
    "        vals, theta_dist = Ifiber(a0, a2, a4, phi, numpts=ntheta, normalize=False)\n",
    "        Idist[i, :] = vals\n",
    "\n",
    "    Idist = np.sum(Idist, axis=0) / nsamples\n",
    "    #Idist = utilities.normalize_1d(Idist)\n",
    "    \n",
    "    Ifibers, theta_fiber = Ifiber(a0, a2, a4, phi0, numpts=ntheta, normalize=False)\n",
    "    \n",
    "    fig = plt.figure(figsize=(10, 10))\n",
    "    plt.plot(theta_fiber, Ifibers, color='g', label='Single Fiber Intensity');\n",
    "    plt.plot(theta_dist, Idist, color='r', label='Fiber Distribution Intensity');\n",
    "    plt.legend(prop={'size': 14}, loc='best');\n",
    "    plt.xlabel(r'$\\theta$', fontsize=18);\n",
    "    plt.ylabel('Intensity (a.u.)', fontsize=18);\n",
    "    plt.title('Intensity Curves from Single Fiber and a Distribution of Fibers', fontsize=18);\n",
    "    #plt.ylim(0, 1.25)\n",
    "    plt.autoscale(enable=True, axis='x', tight=True)\n",
    "    \n",
    "    fig = plt.figure(figsize=(10, 10))\n",
    "    plt.hist(phis)\n",
    "    plt.title('Historgram of phi')\n",
    "    plt.xlabel('phi')\n",
    "    "
   ]
  },
  {
   "cell_type": "code",
   "execution_count": null,
   "metadata": {},
   "outputs": [],
   "source": [
    "p = interactive(compareI, a0=(0, 1, 0.1), a2=(0, 0.05, 0.005), a4=(0, 0.2, 0.02), phi0=(-90, 90, 5), splay=(0, 90, 5), nsamples=(10, 10000, 100))\n",
    "display(p)"
   ]
  },
  {
   "cell_type": "markdown",
   "metadata": {},
   "source": [
    "## See if I can fit the new a0, a2, and a4 terms from the Idist"
   ]
  },
  {
   "cell_type": "code",
   "execution_count": null,
   "metadata": {},
   "outputs": [],
   "source": [
    "def minimand(a0, a2, a4, phi, data):\n",
    "    \n",
    "    theta = np.linspace(-90, 90, len(data))\n",
    "    \n",
    "    feval = a0 + a2 * np.cos(np.deg2rad(2 * (theta - phi))) + a4 * np.cos(np.deg2rad(4 * (theta - phi)))\n",
    "    \n",
    "    diff = data - feval\n",
    "    \n",
    "    diffsq = np.square(diff, diff)\n",
    "    \n",
    "    ssd = np.sum(diffsq)\n",
    "    \n",
    "    return ssd"
   ]
  },
  {
   "cell_type": "code",
   "execution_count": null,
   "metadata": {},
   "outputs": [],
   "source": [
    "def minfun(params, *args):\n",
    "\n",
    "    return minimand(params[0], params[1], params[2], params[3], *args)"
   ]
  },
  {
   "cell_type": "code",
   "execution_count": null,
   "metadata": {},
   "outputs": [],
   "source": [
    "a0 = 0\n",
    "a2 = 0.0652\n",
    "a4 = 0.2489\n",
    "phi = 0\n",
    "splay = 30\n",
    "nsamples = 10000\n",
    "Isingle_data, theta_single = Ifiber(a0, a2, a4, phi, normalize=False)\n",
    "Idist_data = syntheticIdist(a0, a2, a4, splay, nsamples, distribution='normal')\n",
    "minimand(a0, a2, a4, phi, Idist_data)"
   ]
  },
  {
   "cell_type": "markdown",
   "metadata": {},
   "source": [
    "### Find the distribution terms"
   ]
  },
  {
   "cell_type": "markdown",
   "metadata": {},
   "source": [
    "### Plot the data first"
   ]
  },
  {
   "cell_type": "code",
   "execution_count": null,
   "metadata": {},
   "outputs": [],
   "source": [
    "theta = np.linspace(-90, 90, 100)\n",
    "fig = plt.figure(figsize=(10, 10))\n",
    "plt.plot(theta, Isingle_data, color='g', label='Reference Single Fiber Intensity')\n",
    "plt.plot(theta, Idist_data, color='r', label='Fiber Distribution Intensity');\n",
    "plt.legend(prop={'size': 14}, loc='best');\n",
    "plt.xlabel(r'$\\theta$', fontsize=18);\n",
    "plt.ylabel('Intensity (a.u.)', fontsize=18);\n",
    "plt.ylim(-.5, .5);"
   ]
  },
  {
   "cell_type": "markdown",
   "metadata": {},
   "source": [
    "### Minimize to find the parameter values"
   ]
  },
  {
   "cell_type": "code",
   "execution_count": null,
   "metadata": {},
   "outputs": [],
   "source": [
    "args_tup = (Idist_data)\n",
    "int_x = np.array([.6, 0.025, .15, 0])\n",
    "bounds = ((0, 1), (-1, 1), (0, 1), (-90, 90))\n",
    "res = sciopt.minimize(minfun, int_x, args=args_tup, bounds=bounds, method='L-BFGS-B', jac='2-point')"
   ]
  },
  {
   "cell_type": "code",
   "execution_count": null,
   "metadata": {},
   "outputs": [],
   "source": [
    "print('Final values of a0, a2, a4, phi: {}'.format(res.x))\n",
    "print('Final residual: {}'.format(res.fun))"
   ]
  },
  {
   "cell_type": "markdown",
   "metadata": {},
   "source": [
    "### Plot fit results"
   ]
  },
  {
   "cell_type": "code",
   "execution_count": null,
   "metadata": {},
   "outputs": [],
   "source": [
    "a0f = res.x[0]\n",
    "a2f = res.x[1]\n",
    "a4f = res.x[2]\n",
    "phif = res.x[3]\n",
    "\n",
    "Ifit, theta_fit = Ifiber(a0f, a2f, a4f, phif, normalize=False)"
   ]
  },
  {
   "cell_type": "code",
   "execution_count": null,
   "metadata": {},
   "outputs": [],
   "source": [
    "theta = np.linspace(-90, 90, 100)\n",
    "fig = plt.figure(figsize=(10, 10))\n",
    "plt.plot(theta, Isingle_data, color='g', label='Reference Single Fiber Intensity')\n",
    "plt.plot(theta, Idist_data, color='r', label='Fiber Distribution Intensity');\n",
    "plt.plot(theta, Ifit, color='k', ls='dashed', label='Fit Distribution Intensity')\n",
    "plt.legend(prop={'size': 14}, loc='best');\n",
    "plt.xlabel(r'$\\theta$', fontsize=18);\n",
    "plt.ylabel('Intensity (a.u.)', fontsize=18);\n",
    "plt.ylim(-.5, .5);\n",
    "print('Single Fiber a2: {}, a4: {} and a2/a4: {}'.format(a2, a4, a2/a4))\n",
    "print('Fit Fiber Distribution a2: {}, a4: {} and a2/a4: {}'.format(a2f, a4f, a2f/a4f))"
   ]
  },
  {
   "cell_type": "markdown",
   "metadata": {},
   "source": [
    "## Look at ODF data from SALS and compare with pSFDI a0, a2, a4"
   ]
  },
  {
   "cell_type": "markdown",
   "metadata": {},
   "source": [
    "### Load in pSFDI Data"
   ]
  },
  {
   "cell_type": "code",
   "execution_count": null,
   "metadata": {},
   "outputs": [],
   "source": [
    "pSFDI_data_path = 'C:\\\\Users\\\\potterst1\\\\Box Sync\\\\Research\\\\Projects\\\\IGA DIC pSFDI\\\\Experimental Data\\\\2D pSFDI data\\\\ODF Extraction\\\\3.24.19b\\\\2) pSFDI\\\\V_Green\\data_proc.mat'\n",
    "pSFDI_data = fileIO.read_mat_file(pSFDI_data_path)\n",
    "\n",
    "phi = pSFDI_data['phi']\n",
    "a0 = pSFDI_data['a0']\n",
    "a2 = pSFDI_data['a2']\n",
    "a4 = pSFDI_data['a4']\n",
    "DOA = pSFDI_data['DOA']\n",
    "\n",
    "# Add 180\n",
    "phi = phi + 180 * np.ones(phi.shape)"
   ]
  },
  {
   "cell_type": "markdown",
   "metadata": {},
   "source": [
    "### Visualize data"
   ]
  },
  {
   "cell_type": "code",
   "execution_count": null,
   "metadata": {},
   "outputs": [],
   "source": [
    "# PD\n",
    "fig = plt.figure(figsize=(10, 10))\n",
    "im0 = plt.imshow(phi, cmap='hsv');\n",
    "plt.title('Fiber PD');\n",
    "ax = plt.gca();\n",
    "divider = make_axes_locatable(ax);\n",
    "cax = divider.append_axes('right', size='5%', pad=0.05)\n",
    "plt.colorbar(im0, cax=cax);"
   ]
  },
  {
   "cell_type": "code",
   "execution_count": null,
   "metadata": {},
   "outputs": [],
   "source": [
    "# a0\n",
    "fig = plt.figure(figsize=(10, 10))\n",
    "im0 = plt.imshow(a0, cmap='gray')\n",
    "plt.title('A0');"
   ]
  },
  {
   "cell_type": "code",
   "execution_count": null,
   "metadata": {},
   "outputs": [],
   "source": [
    "# a2\n",
    "fig = plt.figure(figsize=(10, 10))\n",
    "im0 = plt.imshow(a2, cmap='jet')\n",
    "plt.title('a2')\n",
    "ax = plt.gca()\n",
    "divider = make_axes_locatable(ax)\n",
    "cax = divider.append_axes('right', size='5%', pad=0.05)\n",
    "colorlimits = (0, 0.05);\n",
    "im0.set_clim(colorlimits)\n",
    "plt.colorbar(im0, cax=cax);"
   ]
  },
  {
   "cell_type": "code",
   "execution_count": null,
   "metadata": {},
   "outputs": [],
   "source": [
    "# a4\n",
    "fig = plt.figure(figsize=(10, 10))\n",
    "im0 = plt.imshow(a4, cmap='jet')\n",
    "plt.title('a4')\n",
    "ax = plt.gca()\n",
    "divider = make_axes_locatable(ax)\n",
    "cax = divider.append_axes('right', size='5%', pad=0.05)\n",
    "colorlimits = (0, 0.07);\n",
    "im0.set_clim(colorlimits)\n",
    "plt.colorbar(im0, cax=cax);"
   ]
  },
  {
   "cell_type": "code",
   "execution_count": null,
   "metadata": {},
   "outputs": [],
   "source": [
    "# DOA\n",
    "fig = plt.figure(figsize=(10, 10))\n",
    "im0 = plt.imshow(DOA, cmap='jet')\n",
    "plt.title('DOA')\n",
    "ax = plt.gca()\n",
    "divider = make_axes_locatable(ax)\n",
    "cax = divider.append_axes('right', size='5%', pad=0.05)\n",
    "colorlimits = (0, .2);\n",
    "im0.set_clim(colorlimits)\n",
    "plt.colorbar(im0, cax=cax);"
   ]
  },
  {
   "cell_type": "markdown",
   "metadata": {},
   "source": [
    "### Visualize a2/a4 ratio"
   ]
  },
  {
   "cell_type": "code",
   "execution_count": null,
   "metadata": {},
   "outputs": [],
   "source": [
    "a2a4 = a2/a4\n",
    "# a2/a4\n",
    "fig = plt.figure(figsize=(10, 10))\n",
    "im0 = plt.imshow(a2a4, cmap='jet')\n",
    "plt.title('a2/a4')\n",
    "ax = plt.gca()\n",
    "divider = make_axes_locatable(ax)\n",
    "cax = divider.append_axes('right', size='5%', pad=0.05)\n",
    "colorlimits = (0, 2);\n",
    "im0.set_clim(colorlimits)\n",
    "plt.colorbar(im0, cax=cax);"
   ]
  },
  {
   "cell_type": "markdown",
   "metadata": {},
   "source": [
    "### Load in SALS data"
   ]
  },
  {
   "cell_type": "code",
   "execution_count": null,
   "metadata": {},
   "outputs": [],
   "source": [
    "SALS_data_path = 'C:\\\\Users\\\\potterst1\\\\Box Sync\\\\Research\\\\Projects\\\\IGA DIC pSFDI\\\\Experimental Data\\\\2D pSFDI data\\\\ODF Extraction\\\\SALS\\\\Results\\\\BP ODF 032919\\\\SALSA OUT TXT\\\\BP_ODF_Extraction_032919_SALSA.txt'\n",
    "\n",
    "# Manually parse data\n",
    "# Open and file and get data\n",
    "f = open(SALS_data_path, 'r')\n",
    "SALS_string_data = f.readlines()\n",
    "SALS_string_list = [line.split('\\t') for line in SALS_string_data]\n",
    "f.close()\n",
    "\n",
    "# Get variables of interest\n",
    "SALS_PD = [row[2] for row in SALS_string_list]\n",
    "SALS_SD = [row[6] for row in SALS_string_list]\n",
    "x = [row[0] for row in SALS_string_list]\n",
    "y = [row[1] for row in SALS_string_list]\n",
    "\n",
    "# Convert strings to floats\n",
    "SALS_PD = list(map(float, SALS_PD[1:]))\n",
    "SALS_SD = list(map(float, SALS_SD[1:]))\n",
    "x = list(map(float, x[1:]))\n",
    "y = list(map(float, y[1:]))\n",
    "\n",
    "# Convert lists to numpy arrays\n",
    "SALS_PD = np.array(SALS_PD)\n",
    "SALS_SD = np.array(SALS_SD)\n",
    "x = np.array(x)\n",
    "y = np.array(y)"
   ]
  },
  {
   "cell_type": "code",
   "execution_count": null,
   "metadata": {},
   "outputs": [],
   "source": [
    "# Reshape the data\n",
    "y_step = y[1] - y[0]\n",
    "ydim = int(np.max(y) / y_step + 1)\n",
    "xdim = int(len(y) / ydim)\n",
    "\n",
    "x_2d = np.reshape(x, (xdim, ydim)).T\n",
    "y_2d = np.reshape(y[::-1], (xdim, ydim)).T\n",
    "PD_2d = np.reshape(SALS_PD, (xdim, ydim)).T\n",
    "PD_2d = np.rad2deg(PD_2d)  # Convert radians to degrees\n",
    "SD_2d = np.reshape(SALS_SD, (xdim, ydim)).T\n",
    "SD_2d = np.rad2deg(SD_2d)  # Convert radians to degrees"
   ]
  },
  {
   "cell_type": "code",
   "execution_count": null,
   "metadata": {},
   "outputs": [],
   "source": [
    "# SALS PD\n",
    "fig = plt.figure(figsize=(10, 10))\n",
    "im0 = plt.imshow(PD_2d, cmap='hsv')\n",
    "plt.title('SALS PD')\n",
    "ax = plt.gca()\n",
    "divider = make_axes_locatable(ax)\n",
    "cax = divider.append_axes('right', size='5%', pad=0.05)\n",
    "colorlimits = (0, 180);\n",
    "im0.set_clim(colorlimits)\n",
    "plt.colorbar(im0, cax=cax);"
   ]
  },
  {
   "cell_type": "code",
   "execution_count": null,
   "metadata": {},
   "outputs": [],
   "source": [
    "# SALS SD\n",
    "fig = plt.figure(figsize=(10, 10))\n",
    "im0 = plt.imshow(SD_2d, cmap='jet')\n",
    "plt.title('SALS SD')\n",
    "ax = plt.gca()\n",
    "divider = make_axes_locatable(ax)\n",
    "cax = divider.append_axes('right', size='5%', pad=0.05)\n",
    "colorlimits = (45, 55);\n",
    "im0.set_clim(colorlimits)\n",
    "plt.colorbar(im0, cax=cax);"
   ]
  },
  {
   "cell_type": "code",
   "execution_count": null,
   "metadata": {},
   "outputs": [],
   "source": [
    "# Save a file for masking a mask\n",
    "name = 'C:\\\\Users\\\\potterst1\\\\Box Sync\\\\Research\\\\Projects\\\\IGA DIC pSFDI\\\\Experimental Data\\\\2D pSFDI data\\\\ODF Extraction\\\\SALS\\\\Results\\\\BP ODF 032919\\\\BW_Images\\\\color_premask.png'\n",
    "plt.imsave(name, SD_2d, format='png', cmap='jet', vmin=45, vmax=55)"
   ]
  },
  {
   "cell_type": "markdown",
   "metadata": {},
   "source": [
    "### Resample images"
   ]
  },
  {
   "cell_type": "code",
   "execution_count": null,
   "metadata": {},
   "outputs": [],
   "source": [
    "# Binary mask of pSFDI image\n",
    "psfdi_mask_path = 'C:\\\\Users\\\\potterst1\\\\Box Sync\\\\Research\\\\Projects\\\\IGA DIC pSFDI\\\\Experimental Data\\\\2D pSFDI data\\\\ODF Extraction\\\\3.24.19b\\\\2) pSFDI\\\\V_Green\\mask.tif'\n",
    "psfdi_mask = cv2.imread(psfdi_mask_path, -1)\n",
    "\n",
    "# Binary mask of SALS image\n",
    "sals_mask_path = 'C:\\\\Users\\\\potterst1\\\\Box Sync\\\\Research\\\\Projects\\\\IGA DIC pSFDI\\\\Experimental Data\\\\2D pSFDI data\\\\ODF Extraction\\\\SALS\\\\Results\\\\BP ODF 032919\\\\BW_Images\\\\Mask.tif'\n",
    "sals_mask = cv2.imread(sals_mask_path, -1)"
   ]
  },
  {
   "cell_type": "code",
   "execution_count": null,
   "metadata": {},
   "outputs": [],
   "source": [
    "fig, (ax0, ax1) = plt.subplots(1, 2, figsize=(15, 15))\n",
    "im0 = ax0.imshow(psfdi_mask, cmap='gray')\n",
    "ax0.set_title('Data Mask for pSFDI Imaging');\n",
    "\n",
    "im1 = ax1.imshow(sals_mask, cmap='gray')\n",
    "ax1.set_title('Data Mask for SALS Imaging');"
   ]
  },
  {
   "cell_type": "code",
   "execution_count": null,
   "metadata": {},
   "outputs": [],
   "source": [
    "# upscale the psfdi data\n",
    "# set the size of the upscaling\n",
    "sals_rows, sals_columns = sals_mask.shape\n",
    "psfdi_rows, psfdi_columns = psfdi_mask.shape\n",
    "\n",
    "row_step = int(psfdi_rows / sals_rows)\n",
    "col_step = int(psfdi_columns / sals_columns)\n",
    "\n",
    "psfdi_mask_upscaled = np.zeros(sals_mask.shape)\n",
    "\n",
    "for i in range(0, sals_rows):\n",
    "    for j in range(0, sals_columns):\n",
    "        subar = psfdi_mask[i * row_step: i * row_step + row_step, j * col_step: j * col_step + col_step]\n",
    "        val = np.mean(subar)\n",
    "        psfdi_mask_upscaled[i, j] = val"
   ]
  },
  {
   "cell_type": "code",
   "execution_count": null,
   "metadata": {},
   "outputs": [],
   "source": [
    "# Show the mask results without thresholding\n",
    "fig = plt.figure(figsize=(10, 10))\n",
    "im0 = plt.imshow(psfdi_mask_upscaled, cmap='gray')\n",
    "plt.title('Upscaled pSFDI Mask Before Thresholding')\n",
    "ax = plt.gca()\n",
    "divider = make_axes_locatable(ax)\n",
    "cax = divider.append_axes('right', size='5%', pad=0.05)\n",
    "plt.colorbar(im0, cax=cax);"
   ]
  },
  {
   "cell_type": "code",
   "execution_count": null,
   "metadata": {},
   "outputs": [],
   "source": [
    "# Threshold mask, then plot\n",
    "psfdi_mask_upscaled = psfdi_mask_upscaled >= 255\n",
    "psfdi_mask_upscaled = 255 * psfdi_mask_upscaled.astype('uint8')\n",
    "\n",
    "# Show the mask results after thresholding\n",
    "fig = plt.figure(figsize=(10, 10))\n",
    "im0 = plt.imshow(psfdi_mask_upscaled, cmap='gray')\n",
    "plt.title('Upscaled pSFDI Mask After Thresholding')\n",
    "ax = plt.gca()\n",
    "divider = make_axes_locatable(ax)\n",
    "cax = divider.append_axes('right', size='5%', pad=0.05)\n",
    "plt.colorbar(im0, cax=cax);"
   ]
  },
  {
   "cell_type": "code",
   "execution_count": null,
   "metadata": {},
   "outputs": [],
   "source": [
    "# Upscale the rest of the data (phi)\n",
    "psfdi_phi_upscaled = np.zeros(sals_mask.shape)\n",
    "\n",
    "for i in range(0, sals_rows):\n",
    "    for j in range(0, sals_columns):\n",
    "        subar_phi = phi[i * row_step: i * row_step + row_step, j * col_step: j * col_step + col_step]\n",
    "        val_phi = np.mean(subar_phi)\n",
    "        psfdi_phi_upscaled[i, j] = val_phi"
   ]
  },
  {
   "cell_type": "code",
   "execution_count": null,
   "metadata": {},
   "outputs": [],
   "source": [
    "# Upscale the rest of the data (a0)\n",
    "psfdi_a0_upscaled = np.zeros(sals_mask.shape)\n",
    "\n",
    "for i in range(0, sals_rows):\n",
    "    for j in range(0, sals_columns):\n",
    "        subar_a0 = a0[i * row_step: i * row_step + row_step, j * col_step: j * col_step + col_step]\n",
    "        val_a0 = np.mean(subar_a0)\n",
    "        psfdi_a0_upscaled[i, j] = val_a0"
   ]
  },
  {
   "cell_type": "code",
   "execution_count": null,
   "metadata": {},
   "outputs": [],
   "source": [
    "# Upscale the rest of the data (a2)\n",
    "psfdi_a2_upscaled = np.zeros(sals_mask.shape)\n",
    "\n",
    "for i in range(0, sals_rows):\n",
    "    for j in range(0, sals_columns):\n",
    "        subar_a2 = a2[i * row_step: i * row_step + row_step, j * col_step: j * col_step + col_step]\n",
    "        val_a2 = np.mean(subar_a2)\n",
    "        psfdi_a2_upscaled[i, j] = val_a2"
   ]
  },
  {
   "cell_type": "code",
   "execution_count": null,
   "metadata": {},
   "outputs": [],
   "source": [
    "# Upscale the rest of the data (a4)\n",
    "psfdi_a4_upscaled = np.zeros(sals_mask.shape)\n",
    "\n",
    "for i in range(0, sals_rows):\n",
    "    for j in range(0, sals_columns):\n",
    "        subar_a4 = a4[i * row_step: i * row_step + row_step, j * col_step: j * col_step + col_step]\n",
    "        val_a4 = np.mean(subar_a4)\n",
    "        psfdi_a4_upscaled[i, j] = val_a4"
   ]
  },
  {
   "cell_type": "code",
   "execution_count": null,
   "metadata": {},
   "outputs": [],
   "source": [
    "# Upscale the rest of the data (a2a4)\n",
    "psfdi_a2a4_upscaled = np.zeros(sals_mask.shape)\n",
    "\n",
    "for i in range(0, sals_rows):\n",
    "    for j in range(0, sals_columns):\n",
    "        subar_a2a4 = a2a4[i * row_step: i * row_step + row_step, j * col_step: j * col_step + col_step]\n",
    "        val_a2a4 = np.mean(subar_a2a4)\n",
    "        psfdi_a2a4_upscaled[i, j] = val_a2a4"
   ]
  },
  {
   "cell_type": "markdown",
   "metadata": {},
   "source": [
    "### Register image data"
   ]
  },
  {
   "cell_type": "code",
   "execution_count": null,
   "metadata": {},
   "outputs": [],
   "source": [
    "# Rotate psfdi image firts\n",
    "sz = sals_mask.shape\n",
    "\n",
    "rot_mat = cv2.getRotationMatrix2D((sz[1]/2, sz[0]/2), -90, 1)\n",
    "\n",
    "psfdi_mask_rotated = cv2.warpAffine(psfdi_mask_upscaled, rot_mat, (sz[1], sz[0]),flags=cv2.INTER_LINEAR + cv2.WARP_INVERSE_MAP)\n",
    "\n",
    "fig, (ax0, ax1) = plt.subplots(1, 2, figsize=(15, 15))\n",
    "im0 = ax0.imshow(psfdi_mask_rotated, cmap='gray')\n",
    "ax0.set_title('Data Mask for pSFDI Imaging');\n",
    "\n",
    "im1 = ax1.imshow(sals_mask, cmap='gray')\n",
    "ax1.set_title('Data Mask for SALS Imaging');"
   ]
  },
  {
   "cell_type": "code",
   "execution_count": null,
   "metadata": {},
   "outputs": [],
   "source": [
    "# Find warp\n",
    "warp_matrix = np.eye(2, 3, dtype=np.float32)\n",
    "warp_mode = cv2.MOTION_EUCLIDEAN\n",
    "\n",
    "niters = 5000\n",
    "eps = 1e-5\n",
    "\n",
    "criteria = (cv2.TERM_CRITERIA_COUNT | cv2.TERM_CRITERIA_EPS, niters, eps)\n",
    "\n",
    "(cc, warp_matrix) = cv2.findTransformECC(sals_mask, psfdi_mask_rotated, warp_matrix, warp_mode, criteria)"
   ]
  },
  {
   "cell_type": "code",
   "execution_count": null,
   "metadata": {},
   "outputs": [],
   "source": [
    "print('cc: {}'.format(cc))\n",
    "print('warp matrix:')\n",
    "print(warp_matrix)"
   ]
  },
  {
   "cell_type": "code",
   "execution_count": null,
   "metadata": {},
   "outputs": [],
   "source": [
    "# Apply warp to psfdi_mask and plot alongside SALS mask\n",
    "sz = sals_mask.shape\n",
    "psfdi_mask_registered = cv2.warpAffine(psfdi_mask_rotated, warp_matrix, (sz[1],sz[0]), flags=cv2.INTER_LINEAR + cv2.WARP_INVERSE_MAP)\n",
    "\n",
    "fig, (ax0, ax1) = plt.subplots(1, 2, figsize=(15, 15))\n",
    "im0 = ax0.imshow(psfdi_mask_registered, cmap='gray')\n",
    "ax0.set_title('Data Mask for pSFDI Imaging');\n",
    "\n",
    "im1 = ax1.imshow(sals_mask, cmap='gray')\n",
    "ax1.set_title('Data Mask for SALS Imaging');"
   ]
  },
  {
   "cell_type": "code",
   "execution_count": null,
   "metadata": {},
   "outputs": [],
   "source": [
    "# Register the rest of the data (phi)\n",
    "psfdi_phi_rotated = cv2.warpAffine(psfdi_phi_upscaled, rot_mat, (sz[1], sz[0]),flags=cv2.INTER_LINEAR + cv2.WARP_INVERSE_MAP)\n",
    "psfdi_phi_rotated = psfdi_phi_rotated + -90 * np.ones(psfdi_phi_rotated.shape)\n",
    "psfdi_phi_registered = cv2.warpAffine(psfdi_phi_rotated, warp_matrix, (sz[1],sz[0]), flags=cv2.INTER_LINEAR + cv2.WARP_INVERSE_MAP)"
   ]
  },
  {
   "cell_type": "code",
   "execution_count": null,
   "metadata": {},
   "outputs": [],
   "source": [
    "# Register the rest of the data (a0)\n",
    "psfdi_a0_rotated = cv2.warpAffine(psfdi_a0_upscaled, rot_mat, (sz[1], sz[0]),flags=cv2.INTER_LINEAR + cv2.WARP_INVERSE_MAP)\n",
    "psfdi_a0_registered = cv2.warpAffine(psfdi_a0_rotated, warp_matrix, (sz[1],sz[0]), flags=cv2.INTER_LINEAR + cv2.WARP_INVERSE_MAP)"
   ]
  },
  {
   "cell_type": "code",
   "execution_count": null,
   "metadata": {},
   "outputs": [],
   "source": [
    "# Register the rest of the data (a2)\n",
    "psfdi_a2_rotated = cv2.warpAffine(psfdi_a2_upscaled, rot_mat, (sz[1], sz[0]),flags=cv2.INTER_LINEAR + cv2.WARP_INVERSE_MAP)\n",
    "psfdi_a2_registered = cv2.warpAffine(psfdi_a2_rotated, warp_matrix, (sz[1],sz[0]), flags=cv2.INTER_LINEAR + cv2.WARP_INVERSE_MAP)"
   ]
  },
  {
   "cell_type": "code",
   "execution_count": null,
   "metadata": {},
   "outputs": [],
   "source": [
    "# Register the rest of the data (a4)\n",
    "psfdi_a4_rotated = cv2.warpAffine(psfdi_a4_upscaled, rot_mat, (sz[1], sz[0]),flags=cv2.INTER_LINEAR + cv2.WARP_INVERSE_MAP)\n",
    "psfdi_a4_registered = cv2.warpAffine(psfdi_a4_rotated, warp_matrix, (sz[1],sz[0]), flags=cv2.INTER_LINEAR + cv2.WARP_INVERSE_MAP)"
   ]
  },
  {
   "cell_type": "code",
   "execution_count": null,
   "metadata": {},
   "outputs": [],
   "source": [
    "# Register the rest of the data (a2a4)\n",
    "psfdi_a2a4_rotated = cv2.warpAffine(psfdi_a2a4_upscaled, rot_mat, (sz[1], sz[0]),flags=cv2.INTER_LINEAR + cv2.WARP_INVERSE_MAP)\n",
    "psfdi_a2a4_registered = cv2.warpAffine(psfdi_a2a4_rotated, warp_matrix, (sz[1],sz[0]), flags=cv2.INTER_LINEAR + cv2.WARP_INVERSE_MAP)"
   ]
  },
  {
   "cell_type": "markdown",
   "metadata": {},
   "source": [
    "### Visualize phi and a2a4 vs SD data"
   ]
  },
  {
   "cell_type": "code",
   "execution_count": null,
   "metadata": {},
   "outputs": [],
   "source": [
    "# Phi vs PD first\n",
    "fig, (ax0, ax1) = plt.subplots(1, 2, figsize=(15, 15))\n",
    "im0 = ax0.imshow(psfdi_phi_registered, cmap='hsv')\n",
    "divider = make_axes_locatable(ax0)\n",
    "cax0 = divider.append_axes('right', size='5%', pad=0.05)\n",
    "fig.colorbar(im0, cax=cax0)\n",
    "ax0.set_title('pSFDI PD')\n",
    "\n",
    "im1 = ax1.imshow(PD_2d, cmap='hsv')\n",
    "divider = make_axes_locatable(ax1)\n",
    "cax1 = divider.append_axes('right', size='5%', pad=0.05)\n",
    "fig.colorbar(im1, cax=cax1)\n",
    "ax1.set_title('SALS PD');"
   ]
  },
  {
   "cell_type": "code",
   "execution_count": null,
   "metadata": {},
   "outputs": [],
   "source": [
    "# a2a4 vs SD \n",
    "fig, (ax0, ax1) = plt.subplots(1, 2, figsize=(15, 15))\n",
    "im0 = ax0.imshow(psfdi_a2a4_registered, cmap='jet')\n",
    "divider = make_axes_locatable(ax0)\n",
    "cax0 = divider.append_axes('right', size='5%', pad=0.05)\n",
    "colorlimits = (0, 4);\n",
    "im0.set_clim(colorlimits)\n",
    "fig.colorbar(im0, cax=cax0)\n",
    "ax0.set_title('pSFDI a2/a4')\n",
    "\n",
    "im1 = ax1.imshow(SD_2d, cmap='jet')\n",
    "divider = make_axes_locatable(ax1)\n",
    "cax1 = divider.append_axes('right', size='5%', pad=0.05)\n",
    "colorlimits = (45, 55);\n",
    "im1.set_clim(colorlimits)\n",
    "fig.colorbar(im1, cax=cax1)\n",
    "ax1.set_title('SALS SD');"
   ]
  },
  {
   "cell_type": "markdown",
   "metadata": {},
   "source": [
    "### Fit single fiber ai terms by convolving with SALS SD"
   ]
  },
  {
   "cell_type": "code",
   "execution_count": null,
   "metadata": {},
   "outputs": [],
   "source": [
    "# Test\n",
    "# Look at single fiber\n",
    "a0 = psfdi_a0_registered[30, 30]\n",
    "a2 = psfdi_a2_registered[30, 30]\n",
    "a4 = psfdi_a4_registered[30, 30]\n",
    "phi = psfdi_phi_registered[30, 30]\n",
    "\n",
    "ivals, theta = Ifiber(a0, a2, a4, phi, normalize=False)"
   ]
  },
  {
   "cell_type": "code",
   "execution_count": null,
   "metadata": {},
   "outputs": [],
   "source": [
    "# Test\n",
    "# Plot the results\n",
    "fig = plt.figure(figsize=(10, 10))\n",
    "plt.plot(theta, ivals);\n",
    "plt.title('pSFDI Measured Distribution I(theta)');"
   ]
  },
  {
   "cell_type": "code",
   "execution_count": null,
   "metadata": {},
   "outputs": [],
   "source": [
    "def sals_syntheticIdist(a0, a2, a4, phi_mean, splay, nsamples, distribution='uniform'):\n",
    "    \n",
    "    ntheta = 100\n",
    "    Idist = np.zeros((nsamples, ntheta))\n",
    "    for i in range(0, nsamples):\n",
    "        if distribution == 'uniform':\n",
    "            phi = np.random.uniform(phi_mean - 1*splay, phi_mean + splay)\n",
    "        elif distribution == 'normal':\n",
    "            phi = np.random.normal(phi_mean, splay)\n",
    "\n",
    "        vals, theta_dist = Ifiber(a0, a2, a4, phi, numpts=ntheta, normalize=False)\n",
    "        Idist[i, :] = vals\n",
    "\n",
    "    Idist = np.sum(Idist, axis=0) / nsamples\n",
    "    #Idist = utilities.normalize_1d(Idist)\n",
    "    \n",
    "    return Idist\n",
    "\n",
    "# minimand for finding single fiber ai from measured SALS sd and measured pSFDI fiber distribution ai\n",
    "def sals_minimand(a0, a2, a4, phi_mean, sigma, psfdi_data):\n",
    "    \n",
    "    synthetic_Idist = sals_syntheticIdist(a0, a2, a4, phi_mean, sigma, 10000, distribution='normal')\n",
    "    \n",
    "    diff = psfdi_data - synthetic_Idist\n",
    "    \n",
    "    diffsq = np.square(diff, diff)\n",
    "    \n",
    "    ssd = np.sum(diffsq)\n",
    "    \n",
    "    return ssd\n",
    "\n",
    "def sals_minfun(params, *args):\n",
    "    \n",
    "    return sals_minimand(params[0], params[1], params[2], params[3], *args)"
   ]
  },
  {
   "cell_type": "code",
   "execution_count": null,
   "metadata": {},
   "outputs": [],
   "source": [
    "# Test\n",
    "# Evaluate difference between distribution generated by convolving single fiber Itheta using ai measured from pSFDI with\n",
    "# distribution of sigma from SALS measure with measured pSFDI data\n",
    "measure_data = ivals\n",
    "sigma = SD_2d[30, 30]\n",
    "\n",
    "params = np.array([a0, a2, a4, phi])\n",
    "args = (sigma, measure_data)\n",
    "\n",
    "sals_minfun(params, *args)"
   ]
  },
  {
   "cell_type": "code",
   "execution_count": null,
   "metadata": {},
   "outputs": [],
   "source": [
    "# Test\n",
    "# Try to minimize to find the single fiber values that get us this distribution given sigma\n",
    "args = (sigma, measure_data)\n",
    "int_x = np.array([a0, a2, a4, phi])\n",
    "bounds = ((0, 1), (-1, 1), (0, 1), (-90, 90))\n",
    "res = sciopt.minimize(sals_minfun, int_x, args=args, bounds=None, method='L-BFGS-B', jac='2-point')"
   ]
  },
  {
   "cell_type": "code",
   "execution_count": null,
   "metadata": {},
   "outputs": [],
   "source": [
    "print('Final values of a0, a2, a4, phi: {}'.format(res.x))\n",
    "print('Initial guess: {}'.format(int_x))\n",
    "print('Final residual: {}'.format(res.fun))"
   ]
  },
  {
   "cell_type": "markdown",
   "metadata": {},
   "source": [
    "## Look at spread of possible a2/a4 combinations"
   ]
  },
  {
   "cell_type": "code",
   "execution_count": null,
   "metadata": {},
   "outputs": [],
   "source": [
    "a2s = np.linspace(-1, 1, 100)\n",
    "a4s = np.linspace(0.01, 1, 100)\n",
    "\n",
    "a44, a22 = np.meshgrid(a4s, a2s)"
   ]
  },
  {
   "cell_type": "code",
   "execution_count": null,
   "metadata": {},
   "outputs": [],
   "source": [
    "ratio = a22/a44\n",
    "\n",
    "fig, (ax0, ax1, ax2) = plt.subplots(1, 3, figsize=(17, 17))\n",
    "im0 = ax0.imshow(a22, cmap='jet')\n",
    "divider = make_axes_locatable(ax0)\n",
    "cax0 = divider.append_axes('right', size='5%', pad=0.05)\n",
    "fig.colorbar(im0, cax=cax0)\n",
    "ax0.set_title('a2')\n",
    "\n",
    "im1 = ax1.imshow(a44, cmap='jet')\n",
    "divider = make_axes_locatable(ax1)\n",
    "cax1 = divider.append_axes('right', size='5%', pad=0.05)\n",
    "fig.colorbar(im1, cax=cax1)\n",
    "ax1.set_title('a4');\n",
    "\n",
    "im2 = ax2.imshow(ratio, cmap='jet')\n",
    "divider = make_axes_locatable(ax2)\n",
    "cax2 = divider.append_axes('right', size='5%', pad=0.05)\n",
    "fig.colorbar(im2, cax=cax2)\n",
    "ax2.set_title('a2/a4');"
   ]
  },
  {
   "cell_type": "code",
   "execution_count": null,
   "metadata": {},
   "outputs": [],
   "source": [
    "fig = plt.figure(figsize=(10, 10))\n",
    "plt.imshow(ratio, cmap='jet', extent=[0, 1, 1, -1], aspect='auto')\n",
    "plt.colorbar();\n",
    "plt.title('Ratio of a2/a4 over range of theoretical values of a2 and a4', size=15);\n",
    "plt.xlabel('a4', size=18)\n",
    "plt.ylabel('a2', size=18);"
   ]
  },
  {
   "cell_type": "markdown",
   "metadata": {},
   "source": [
    "### Looking at 1D slices - Varying a4"
   ]
  },
  {
   "cell_type": "code",
   "execution_count": null,
   "metadata": {},
   "outputs": [],
   "source": [
    "a2 = np.linspace(-1, 1, 5)\n",
    "a4 = np.linspace(0.01, 1, 100)"
   ]
  },
  {
   "cell_type": "code",
   "execution_count": null,
   "metadata": {},
   "outputs": [],
   "source": [
    "fig = plt.figure(figsize=(10, 10))\n",
    "plt.plot(a4, a2[0] / a4, label='a2={}'.format(a2[0]));\n",
    "plt.plot(a4, a2[1] / a4, label='a2={}'.format(a2[1]))\n",
    "plt.plot(a4, a2[2] / a4, label='a2={}'.format(a2[2]))\n",
    "plt.plot(a4, a2[3] / a4, label='a2={}'.format(a2[3]))\n",
    "plt.plot(a4, a2[4] / a4, label='a2={}'.format(a2[4]))\n",
    "plt.legend(prop={'size': 18});\n",
    "plt.xlabel('a4', size=18)\n",
    "plt.ylabel('a2/a4', size=18)\n",
    "plt.title('1D Slice of a2/a4 - varying a4', size=16);"
   ]
  },
  {
   "cell_type": "markdown",
   "metadata": {},
   "source": [
    "### Looking at 1D slices - Varying a2"
   ]
  },
  {
   "cell_type": "code",
   "execution_count": null,
   "metadata": {},
   "outputs": [],
   "source": [
    "a2 = np.linspace(-1, 1, 100)\n",
    "a4 = np.linspace(0.0, 1, 5)\n",
    "print(a4)"
   ]
  },
  {
   "cell_type": "code",
   "execution_count": null,
   "metadata": {
    "scrolled": false
   },
   "outputs": [],
   "source": [
    "# Note leaving out the a4=0 as it leads to inf\n",
    "fig = plt.figure(figsize=(10, 10))\n",
    "plt.plot(a2, a2 / a4[1], label='a4={}'.format(a4[1]))\n",
    "plt.plot(a2, a2 / a4[2], label='a4={}'.format(a4[2]))\n",
    "plt.plot(a2, a2 / a4[3], label='a4={}'.format(a4[3]))\n",
    "plt.plot(a2, a2 / a4[4], label='a4={}'.format(a4[4]))\n",
    "plt.legend(prop={'size': 18});\n",
    "plt.xlabel('a2', size=18)\n",
    "plt.ylabel('a2/a4', size=18)\n",
    "plt.title('1D Slice of a2/a4 - varying a2', size=16);"
   ]
  },
  {
   "cell_type": "markdown",
   "metadata": {},
   "source": [
    "### Looking at 1D slices - Varying a4 - Looking at top 80% of a4 range"
   ]
  },
  {
   "cell_type": "code",
   "execution_count": null,
   "metadata": {},
   "outputs": [],
   "source": [
    "a2 = np.linspace(-1, 1, 5)\n",
    "a4 = np.linspace(0.01, 1, 100)"
   ]
  },
  {
   "cell_type": "code",
   "execution_count": null,
   "metadata": {},
   "outputs": [],
   "source": [
    "fig = plt.figure(figsize=(10, 10))\n",
    "plt.plot(a4, a2[0] / a4, label='a2={}'.format(a2[0]));\n",
    "plt.plot(a4, a2[1] / a4, label='a2={}'.format(a2[1]))\n",
    "plt.plot(a4, a2[2] / a4, label='a2={}'.format(a2[2]))\n",
    "plt.plot(a4, a2[3] / a4, label='a2={}'.format(a2[3]))\n",
    "plt.plot(a4, a2[4] / a4, label='a2={}'.format(a2[4]))\n",
    "plt.legend(prop={'size': 18});\n",
    "plt.xlabel('a4', size=18)\n",
    "plt.ylabel('a2/a4', size=18)\n",
    "plt.xlim(0.2, 1.0)\n",
    "plt.ylim(-5, 5)\n",
    "plt.title('1D Slice of a2/a4 - varying a4', size=16);"
   ]
  },
  {
   "cell_type": "markdown",
   "metadata": {},
   "source": [
    "### Histogram a2/a4"
   ]
  },
  {
   "cell_type": "code",
   "execution_count": null,
   "metadata": {},
   "outputs": [],
   "source": [
    "ratio_flat = np.ndarray.flatten(ratio)"
   ]
  },
  {
   "cell_type": "code",
   "execution_count": null,
   "metadata": {},
   "outputs": [],
   "source": [
    "fig = plt.figure(figsize=(10, 10))\n",
    "plt.boxplot(ratio_flat, showfliers=False);"
   ]
  },
  {
   "cell_type": "code",
   "execution_count": null,
   "metadata": {},
   "outputs": [],
   "source": [
    "fig = plt.figure(figsize=(10, 10))\n",
    "plt.hist(ratio_flat);"
   ]
  },
  {
   "cell_type": "markdown",
   "metadata": {},
   "source": [
    "### Effects of fiber population splay on a2/a4 ratios"
   ]
  },
  {
   "cell_type": "markdown",
   "metadata": {},
   "source": [
    "Note, this doesn't really reflect range of a2/a4 from real single fiber types. Need to get that from the literature. This is just to scope.\n",
    "\n",
    "SOMETHING SEEMS WRONG"
   ]
  },
  {
   "cell_type": "code",
   "execution_count": null,
   "metadata": {},
   "outputs": [],
   "source": [
    "# Specify range of a2/a4 to be [-4, 4]\n",
    "# Accomplish this by fixing a4=0.25 and letting a2 range [-1, 1]\n",
    "a2 = np.linspace(-1, 1, 20)\n",
    "a4 = 0.25\n",
    "a2a4 = a2 / a4"
   ]
  },
  {
   "cell_type": "code",
   "execution_count": null,
   "metadata": {},
   "outputs": [],
   "source": [
    "# Specify range of sigma\n",
    "sigma = np.linspace(0, 90, 19)"
   ]
  },
  {
   "cell_type": "code",
   "execution_count": null,
   "metadata": {},
   "outputs": [],
   "source": [
    "# Loop over a2/a4\n",
    "# Loop over splay\n",
    "# Compute a2/a4 of a distribution, use a2 and a4 as a starting point\n",
    "# Store this in th earray\n",
    "\n",
    "phi = 0\n",
    "a0 = 0\n",
    "nsamples = 10000\n",
    "bounds = ((0, 1), (-1, 1), (0, 1), (-90, 90))\n",
    "\n",
    "a2a4_dist = np.zeros((len(a2/a4), len(sigma)))\n",
    "residualmat = np.zeros((len(a2/a4), len(sigma)))\n",
    "for i in range(0, len(a2a4)):\n",
    "    for j in range(0, len(sigma)):\n",
    "        a2 = a2a4[i] * a4\n",
    "        # Generate a synthetic distribution\n",
    "        Idist_data = syntheticIdist(a0, a2, a4, splay, nsamples, distribution='normal')\n",
    "        # Fit that data\n",
    "        args_tup = (Idist_data)\n",
    "        int_x = np.array([a0, a2, a4, phi])\n",
    "        minresult = sciopt.minimize(minfun, int_x, args=args_tup, bounds=bounds, method='L-BFGS-B', jac='2-point')\n",
    "        a0f = minresult.x[0]\n",
    "        a2f = minresult.x[1]\n",
    "        a4f = minresult.x[2]\n",
    "        phif = minresult.x[3]\n",
    "        residual = minresult.fun\n",
    "        a2a4f = a2f/a4f\n",
    "        \n",
    "        a2a4_dist[i, j] = a2a4f\n",
    "        residualmat[i, j] = residual"
   ]
  },
  {
   "cell_type": "code",
   "execution_count": null,
   "metadata": {},
   "outputs": [],
   "source": [
    "fig = plt.figure(figsize=(10, 10))\n",
    "plt.imshow(a2a4_dist, cmap='jet', extent=[0, 90, 4, -4], aspect='auto')\n",
    "plt.colorbar();\n",
    "plt.title('Distribution a2/a4 from given a2/a4 single fiber input and distribution splay', size=15);\n",
    "plt.xlabel('sigma', size=18)\n",
    "plt.ylabel('a2/a4', size=18);"
   ]
  },
  {
   "cell_type": "code",
   "execution_count": null,
   "metadata": {},
   "outputs": [],
   "source": [
    "fig = plt.figure(figsize=(10, 10))\n",
    "plt.imshow(residualmat, cmap='jet', extent=[0, 90, 4, -4], aspect='auto')\n",
    "plt.colorbar();\n",
    "plt.title('Residuals from minimization process', size=15);\n",
    "plt.xlabel('sigma', size=18)\n",
    "plt.ylabel('a2/a4', size=18);"
   ]
  },
  {
   "cell_type": "code",
   "execution_count": null,
   "metadata": {},
   "outputs": [],
   "source": [
    "a2a4_stacked = np.zeros((len(a2a4), 19))\n",
    "for i in range(0, 19):\n",
    "    a2a4_stacked[:, i] = a2a4"
   ]
  },
  {
   "cell_type": "code",
   "execution_count": null,
   "metadata": {},
   "outputs": [],
   "source": [
    "fig = plt.figure(figsize=(10, 10))\n",
    "plt.imshow(a2a4_stacked, cmap='jet', extent=[0, 90, 4, -4], aspect='auto')\n",
    "plt.colorbar();\n",
    "plt.title('Distribution a2/a4 from given a2/a4 single fiber input and distribution splay', size=15);\n",
    "plt.xlabel('sigma', size=18)\n",
    "plt.ylabel('a2/a4', size=18);"
   ]
  },
  {
   "cell_type": "code",
   "execution_count": null,
   "metadata": {},
   "outputs": [],
   "source": []
  }
 ],
 "metadata": {
  "kernelspec": {
   "display_name": "Python (scidev)",
   "language": "python",
   "name": "scidev"
  },
  "language_info": {
   "codemirror_mode": {
    "name": "ipython",
    "version": 3
   },
   "file_extension": ".py",
   "mimetype": "text/x-python",
   "name": "python",
   "nbconvert_exporter": "python",
   "pygments_lexer": "ipython3",
   "version": "3.6.7"
  }
 },
 "nbformat": 4,
 "nbformat_minor": 2
}
