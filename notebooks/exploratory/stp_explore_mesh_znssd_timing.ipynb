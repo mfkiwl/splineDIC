{
 "cells": [
  {
   "cell_type": "markdown",
   "metadata": {},
   "source": [
    "# Exploring & Testing Use of NURBS in DIC\n",
    "## Sam Potter\n",
    "## Current: 3/24/19"
   ]
  },
  {
   "cell_type": "markdown",
   "metadata": {},
   "source": [
    "## Path and Imports"
   ]
  },
  {
   "cell_type": "code",
   "execution_count": 1,
   "metadata": {},
   "outputs": [],
   "source": [
    "import sys\n",
    "import os\n",
    "\n",
    "sys.path.extend(['C:\\\\Users\\\\potterst1\\\\Desktop\\Repositories\\BitBucket\\dic',\n",
    "                 'C:/Users/potterst1/Desktop/Repositories/BitBucket/dic'])\n",
    "sys.path.extend(['/workspace/stpotter/git/bitbucket/dic'])\n",
    "from dic import numerics\n",
    "from dic import analysis\n",
    "import cv2\n",
    "import numpy as np\n",
    "from geomdl import BSpline as bs\n",
    "from geomdl import utilities as gutil\n",
    "\n",
    "# Debugging\n",
    "import cProfile as profile\n",
    "import pdb"
   ]
  },
  {
   "cell_type": "markdown",
   "metadata": {},
   "source": [
    "## Setup problem"
   ]
  },
  {
   "cell_type": "code",
   "execution_count": 7,
   "metadata": {},
   "outputs": [],
   "source": [
    "# Parse input\n",
    "data = 'dic'\n",
    "dx = 0\n",
    "dy = 0\n",
    "F11 = 1.01\n",
    "F12 = 0\n",
    "F21 = 0\n",
    "F22 = 1\n",
    "\n",
    "# Read image data\n",
    "# Hard code absolute paths for now. Fix later'\n",
    "dic_name = '/workspace/stpotter/git/bitbucket/dic/data/DIC_S_cropped_gray_pad_0.tiff'\n",
    "psfdi_name = '/workspace/stpotter/git/bitbucket/dic/data/DOA_cropped_gray_pad_0.tiff'\n",
    "\n",
    "if data == 'dic':\n",
    "    def_image = cv2.imread(dic_name, -1)  # Read in image 'as is'\n",
    "elif data == 'psfdi':\n",
    "    def_image = cv2.imread(psfdi_name, -1)  # Read in image 'as is'\n",
    "else:\n",
    "    print('Unclear image data type')\n",
    "    sys.exit(1)\n",
    "\n",
    "# Translate image\n",
    "F = np.array([[F11, F12],\n",
    "              [F21, F22]])\n",
    "\n",
    "# get def image interp coefficients\n",
    "def_coeff = numerics.image_interp_bicubic(def_image)\n",
    "\n",
    "# Create sub images (def)\n",
    "def_sub_image = def_image[:450, :450]\n",
    "\n",
    "# Create ref sub image\n",
    "ref_sub_image = np.zeros(def_sub_image.shape)\n",
    "i = 0\n",
    "j = 0\n",
    "for row in range(0, 450):\n",
    "    for col in range(0, 450):\n",
    "        # New pt (x, y)\n",
    "        pt = F @ np.array([col, row]) + np.array([dx, dy])\n",
    "        val = numerics.eval_interp_bicubic(def_coeff, pt[0], pt[1], def_image.shape)\n",
    "        ref_sub_image[i, j] = val\n",
    "        j += 1\n",
    "    j = 0\n",
    "    i += 1\n",
    "\n",
    "# Specify region of interest\n",
    "# Format: [column index for start of X, column index for end of X, row index for start of Y, row index for end of Y]\n",
    "# TODO: Is this format the best or should it be row column and then map appropriately? Depends on UI\n",
    "subregion_indices = np.array([50, 425, 50, 425])\n",
    "\n",
    "# Compute some items to use for output. Will refactor later\n",
    "\n",
    "# Setup mesh and uv values\n",
    "ref_surf, uv_vals, coords, indices = analysis.setup_surf(subregion_indices)\n",
    "num_ctrlpts = np.sqrt(len(coords)).astype('int')\n",
    "\n",
    "# Get interpolation coefficients\n",
    "ref_sub_coeff = numerics.image_interp_bicubic(ref_sub_image)\n",
    "def_sub_coeff = numerics.image_interp_bicubic(def_sub_image)\n",
    "\n",
    "# TODO: Add type checking\n",
    "\n",
    "# Compute reference mesh quantities of interest (array, mean, standard deviation)\n",
    "f_mesh, f_mean, f_stddev = analysis.ref_mesh_qoi(ref_surf, uv_vals, ref_sub_coeff, ref_sub_image.shape)\n",
    "\n",
    "# Test synthetically deformed control points\n",
    "synth_coords = np.zeros((len(coords), 2))\n",
    "for i in range(len(synth_coords)):\n",
    "    synth_coords[i, :] = np.matmul(F, coords[i, :]) + np.array([dx, dy])\n",
    "\n",
    "# Compute synthetic control point displacements\n",
    "synth_coords_disp = synth_coords - coords"
   ]
  },
  {
   "cell_type": "code",
   "execution_count": 8,
   "metadata": {},
   "outputs": [
    {
     "name": "stdout",
     "output_type": "stream",
     "text": [
      "13.7 s ± 48.5 ms per loop (mean ± std. dev. of 7 runs, 1 loop each)\n"
     ]
    }
   ],
   "source": [
    "%%timeit\n",
    "# Compute znssd between synthetic and ref coordinates\n",
    "synth_znssd = analysis.mesh_znssd(f_mesh, f_mean, f_stddev, def_sub_image.shape, ref_surf, uv_vals, def_sub_coeff,\n",
    "                                  synth_coords_disp)"
   ]
  },
  {
   "cell_type": "code",
   "execution_count": 4,
   "metadata": {},
   "outputs": [
    {
     "name": "stdout",
     "output_type": "stream",
     "text": [
      "F\n",
      "[[1.01 0.  ]\n",
      " [0.   1.  ]]\n",
      "ZNSSD: 6.039664661104383e-21\n"
     ]
    }
   ],
   "source": [
    "print('F')\n",
    "print(F)\n",
    "print('ZNSSD: {}'.format(synth_znssd))"
   ]
  }
 ],
 "metadata": {
  "kernelspec": {
   "display_name": "Python (scidev)",
   "language": "python",
   "name": "scidev"
  },
  "language_info": {
   "codemirror_mode": {
    "name": "ipython",
    "version": 3
   },
   "file_extension": ".py",
   "mimetype": "text/x-python",
   "name": "python",
   "nbconvert_exporter": "python",
   "pygments_lexer": "ipython3",
   "version": "3.6.8"
  }
 },
 "nbformat": 4,
 "nbformat_minor": 2
}
