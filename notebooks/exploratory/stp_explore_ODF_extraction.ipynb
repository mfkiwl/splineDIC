{
 "cells": [
  {
   "cell_type": "markdown",
   "metadata": {},
   "source": [
    "# Exploring ODF Extraction\n",
    "## Sam Potter\n",
    "## Current: 3/25/19"
   ]
  },
  {
   "cell_type": "markdown",
   "metadata": {},
   "source": [
    "## Path and Imports"
   ]
  },
  {
   "cell_type": "code",
   "execution_count": 1,
   "metadata": {},
   "outputs": [],
   "source": [
    "import sys\n",
    "import os\n",
    "\n",
    "sys.path.extend(['C:\\\\Users\\\\potterst1\\\\Desktop\\Repositories\\BitBucket\\dic',\n",
    "                 'C:/Users/potterst1/Desktop/Repositories/BitBucket/dic'])\n",
    "sys.path.extend(['/workspace/stpotter/git/bitbucket/dic'])\n",
    "from dic import visualize\n",
    "from dic import fileIO\n",
    "from matplotlib import pyplot as plt\n",
    "import numpy as np\n",
    "from mpl_toolkits.axes_grid1 import make_axes_locatable\n",
    "from matplotlib import patches\n",
    "from matplotlib import rc\n",
    "from dic import utilities\n",
    "import seaborn as sns\n",
    "\n",
    "from ipywidgets import *\n",
    "from scipy import optimize as sciopt"
   ]
  },
  {
   "cell_type": "markdown",
   "metadata": {},
   "source": [
    "## Magics"
   ]
  },
  {
   "cell_type": "code",
   "execution_count": 2,
   "metadata": {},
   "outputs": [],
   "source": [
    "%matplotlib inline"
   ]
  },
  {
   "cell_type": "markdown",
   "metadata": {},
   "source": [
    "## Optical Mathematics"
   ]
  },
  {
   "cell_type": "markdown",
   "metadata": {},
   "source": [
    "### Cylindrical scattering for single fiber"
   ]
  },
  {
   "cell_type": "markdown",
   "metadata": {},
   "source": [
    "$I_{fiber}(\\theta) = a_0 + a_2 \\cos(2(\\theta - \\phi)) + a_4 \\cos(4(\\theta - \\phi))$"
   ]
  },
  {
   "cell_type": "markdown",
   "metadata": {},
   "source": [
    "### Cylindrical scattering for a distribution of fibers"
   ]
  },
  {
   "cell_type": "markdown",
   "metadata": {},
   "source": [
    "$I_{dist}(\\theta) = \\int_{-\\pi/2}^{\\pi/2} I_{fiber}(\\theta) PDF_{dist}(\\theta) d \\theta$\n",
    "\n",
    "NOTE, CONVOLUTION OPERATION IS TREATED AS JUST SUMMATION AND NORMALIZATION IN THE WORK BELOW. CORRECT???"
   ]
  },
  {
   "cell_type": "markdown",
   "metadata": {},
   "source": [
    "## Setup Single Fiber Cosine Series"
   ]
  },
  {
   "cell_type": "markdown",
   "metadata": {},
   "source": [
    "### Definition of single fiber function"
   ]
  },
  {
   "cell_type": "code",
   "execution_count": 3,
   "metadata": {},
   "outputs": [],
   "source": [
    "def Ifiber(a0, a2, a4, phi, numpts=100, normalize=True):\n",
    "    \n",
    "    theta = np.linspace(-90, 90, numpts)\n",
    "    \n",
    "    vals = a0 + a2 * np.cos(np.deg2rad(2 * (theta - phi))) + a4 * np.cos(np.deg2rad(4 * (theta - phi)))\n",
    "    \n",
    "    if normalize:\n",
    "        vals = utilities.normalize_1d(vals)\n",
    "    \n",
    "    return vals, theta"
   ]
  },
  {
   "cell_type": "code",
   "execution_count": 4,
   "metadata": {},
   "outputs": [],
   "source": [
    "def Ifiber_interactive(a0, a2, a4, phi, numpts=100, normalize=True):\n",
    "    \n",
    "    theta = np.linspace(-90, 90, numpts)\n",
    "    \n",
    "    vals = a0 + a2 * np.cos(np.deg2rad(2 * (theta - phi))) + a4 * np.cos(np.deg2rad(4 * (theta - phi)))\n",
    "    \n",
    "    if normalize:\n",
    "        vals = utilities.normalize_1d(vals)\n",
    "    \n",
    "    fig = plt.figure(figsize=(10, 10))\n",
    "    plt.plot(theta, vals, color='g', label='Intensity');\n",
    "    plt.legend(prop={'size': 18});\n",
    "    plt.xlabel(r'$\\theta$', fontsize=18);\n",
    "    plt.ylabel('Normalized Intensity (a.u.)', fontsize=18);\n",
    "    plt.title('Normalized Intensity Curves of Single Fiber under Cylindrical Scattering', fontsize=18);\n",
    "    plt.autoscale(enable=True, axis='x', tight=True)\n",
    "    \n",
    "    print('a2/a4: {}'.format(a2/a4))"
   ]
  },
  {
   "cell_type": "markdown",
   "metadata": {},
   "source": [
    "### Plot a sample intensity function"
   ]
  },
  {
   "cell_type": "code",
   "execution_count": 5,
   "metadata": {},
   "outputs": [
    {
     "data": {
      "application/vnd.jupyter.widget-view+json": {
       "model_id": "167ca3eb0ce642208138382cf60f4155",
       "version_major": 2,
       "version_minor": 0
      },
      "text/plain": [
       "interactive(children=(FloatSlider(value=0.0, description='a0', max=1.0), FloatSlider(value=0.025, description=…"
      ]
     },
     "metadata": {},
     "output_type": "display_data"
    }
   ],
   "source": [
    "p = interactive(Ifiber_interactive, a0=(0, 1, 0.1), a2=(0, 0.05, 0.005), a4=(0, 0.2, 0.02), phi=(-90, 90, 5), numpts=(100, 500, 10))\n",
    "display(p)"
   ]
  },
  {
   "cell_type": "markdown",
   "metadata": {},
   "source": [
    "## Look at Fiber Distributions"
   ]
  },
  {
   "cell_type": "markdown",
   "metadata": {},
   "source": [
    "### Setup Uniform Distribution"
   ]
  },
  {
   "cell_type": "code",
   "execution_count": 6,
   "metadata": {},
   "outputs": [],
   "source": [
    "samples = np.random.uniform(-45, 45, 10000)"
   ]
  },
  {
   "cell_type": "code",
   "execution_count": 7,
   "metadata": {},
   "outputs": [
    {
     "data": {
      "image/png": "[encoded data removed]",
      "text/plain": [
       "<Figure size 432x288 with 1 Axes>"
      ]
     },
     "metadata": {
      "needs_background": "light"
     },
     "output_type": "display_data"
    }
   ],
   "source": [
    "plt.hist(samples);"
   ]
  },
  {
   "cell_type": "markdown",
   "metadata": {},
   "source": [
    "### Setup Normal Distribution"
   ]
  },
  {
   "cell_type": "code",
   "execution_count": 8,
   "metadata": {},
   "outputs": [],
   "source": [
    "samples = np.random.normal(0, 45, 10000)"
   ]
  },
  {
   "cell_type": "code",
   "execution_count": 9,
   "metadata": {},
   "outputs": [
    {
     "data": {
      "image/png": "[encoded data removed]",
      "text/plain": [
       "<Figure size 432x288 with 1 Axes>"
      ]
     },
     "metadata": {
      "needs_background": "light"
     },
     "output_type": "display_data"
    }
   ],
   "source": [
    "plt.hist(samples);"
   ]
  },
  {
   "cell_type": "markdown",
   "metadata": {},
   "source": [
    "### Setup and generate samples"
   ]
  },
  {
   "cell_type": "code",
   "execution_count": 10,
   "metadata": {},
   "outputs": [],
   "source": [
    "def syntheticIdist(a0, a2, a4, splay, nsamples, distribution='uniform'):\n",
    "    \n",
    "    ntheta = 100\n",
    "    Idist = np.zeros((nsamples, ntheta))\n",
    "    for i in range(0, nsamples):\n",
    "        if distribution == 'uniform':\n",
    "            phi = np.random.uniform(-1*splay, splay)\n",
    "        elif distribution == 'normal':\n",
    "            phi = np.random.normal(0, splay)\n",
    "\n",
    "        vals, theta_dist = Ifiber(a0, a2, a4, phi, numpts=ntheta, normalize=False)\n",
    "        Idist[i, :] = vals\n",
    "\n",
    "    Idist = np.sum(Idist, axis=0) / nsamples\n",
    "    #Idist = utilities.normalize_1d(Idist)\n",
    "    \n",
    "    return Idist"
   ]
  },
  {
   "cell_type": "code",
   "execution_count": 11,
   "metadata": {},
   "outputs": [],
   "source": [
    "def compareI(a0, a2, a4, phi0, splay, nsamples, distribution='uniform'):\n",
    "    \n",
    "    ntheta = 100\n",
    "    Idist = np.zeros((nsamples, ntheta))\n",
    "    if distribution == 'uniform':\n",
    "        phis = np.random.uniform(-1*splay, splay, nsamples)\n",
    "    elif distribution == 'normal':\n",
    "        phis = np.random.normal(0, splay, nsamples)\n",
    "    for i in range(0, nsamples):\n",
    "        phi = phis[i]\n",
    "        vals, theta_dist = Ifiber(a0, a2, a4, phi, numpts=ntheta, normalize=False)\n",
    "        Idist[i, :] = vals\n",
    "\n",
    "    Idist = np.sum(Idist, axis=0) / nsamples\n",
    "    #Idist = utilities.normalize_1d(Idist)\n",
    "    \n",
    "    Ifibers, theta_fiber = Ifiber(a0, a2, a4, phi0, numpts=ntheta, normalize=False)\n",
    "    \n",
    "    fig = plt.figure(figsize=(10, 10))\n",
    "    plt.plot(theta_fiber, Ifibers, color='g', label='Single Fiber Intensity');\n",
    "    plt.plot(theta_dist, Idist, color='r', label='Fiber Distribution Intensity');\n",
    "    plt.legend(prop={'size': 14}, loc='best');\n",
    "    plt.xlabel(r'$\\theta$', fontsize=18);\n",
    "    plt.ylabel('Intensity (a.u.)', fontsize=18);\n",
    "    plt.title('Intensity Curves from Single Fiber and a Distribution of Fibers', fontsize=18);\n",
    "    #plt.ylim(0, 1.25)\n",
    "    plt.autoscale(enable=True, axis='x', tight=True)\n",
    "    \n",
    "    fig = plt.figure(figsize=(10, 10))\n",
    "    plt.hist(phis)\n",
    "    plt.title('Historgram of phi')\n",
    "    plt.xlabel('phi')\n",
    "    "
   ]
  },
  {
   "cell_type": "code",
   "execution_count": 12,
   "metadata": {},
   "outputs": [
    {
     "data": {
      "application/vnd.jupyter.widget-view+json": {
       "model_id": "8737addc58cb4bbea71e670ccbf1e5c8",
       "version_major": 2,
       "version_minor": 0
      },
      "text/plain": [
       "interactive(children=(FloatSlider(value=0.0, description='a0', max=1.0), FloatSlider(value=0.025, description=…"
      ]
     },
     "metadata": {},
     "output_type": "display_data"
    }
   ],
   "source": [
    "p = interactive(compareI, a0=(0, 1, 0.1), a2=(0, 0.05, 0.005), a4=(0, 0.2, 0.02), phi0=(-90, 90, 5), splay=(0, 90, 5), nsamples=(10, 10000, 100))\n",
    "display(p)"
   ]
  },
  {
   "cell_type": "markdown",
   "metadata": {},
   "source": [
    "## See if I can fit the new a0, a2, and a4 terms from the Idist"
   ]
  },
  {
   "cell_type": "code",
   "execution_count": null,
   "metadata": {},
   "outputs": [],
   "source": [
    "def minimand(a0, a2, a4, phi, data):\n",
    "    \n",
    "    theta = np.linspace(-90, 90, len(data))\n",
    "    \n",
    "    feval = a0 + a2 * np.cos(np.deg2rad(2 * (theta - phi))) + a4 * np.cos(np.deg2rad(4 * (theta - phi)))\n",
    "    \n",
    "    diff = data - feval\n",
    "    \n",
    "    diffsq = np.square(diff, diff)\n",
    "    \n",
    "    ssd = np.sum(diffsq)\n",
    "    \n",
    "    return ssd"
   ]
  },
  {
   "cell_type": "code",
   "execution_count": null,
   "metadata": {},
   "outputs": [],
   "source": [
    "def minfun(params, *args):\n",
    "\n",
    "    return minimand(params[0], params[1], params[2], params[3], *args)"
   ]
  },
  {
   "cell_type": "code",
   "execution_count": null,
   "metadata": {},
   "outputs": [],
   "source": [
    "a0 = 0\n",
    "a2 = 0.0652\n",
    "a4 = 0.2489\n",
    "phi = 0\n",
    "splay = 30\n",
    "nsamples = 10000\n",
    "Isingle_data, theta_single = Ifiber(a0, a2, a4, phi, normalize=False)\n",
    "Idist_data = syntheticIdist(a0, a2, a4, splay, nsamples, distribution='normal')\n",
    "minimand(a0, a2, a4, phi, Idist_data)"
   ]
  },
  {
   "cell_type": "markdown",
   "metadata": {},
   "source": [
    "### Find the distribution terms"
   ]
  },
  {
   "cell_type": "markdown",
   "metadata": {},
   "source": [
    "### Plot the data first"
   ]
  },
  {
   "cell_type": "code",
   "execution_count": null,
   "metadata": {},
   "outputs": [],
   "source": [
    "theta = np.linspace(-90, 90, 100)\n",
    "fig = plt.figure(figsize=(10, 10))\n",
    "plt.plot(theta, Isingle_data, color='g', label='Reference Single Fiber Intensity')\n",
    "plt.plot(theta, Idist_data, color='r', label='Fiber Distribution Intensity');\n",
    "plt.legend(prop={'size': 14}, loc='best');\n",
    "plt.xlabel(r'$\\theta$', fontsize=18);\n",
    "plt.ylabel('Intensity (a.u.)', fontsize=18);\n",
    "plt.ylim(-.5, .5);"
   ]
  },
  {
   "cell_type": "markdown",
   "metadata": {},
   "source": [
    "### Minimize to find the parameter values"
   ]
  },
  {
   "cell_type": "code",
   "execution_count": null,
   "metadata": {},
   "outputs": [],
   "source": [
    "args_tup = (Idist_data)\n",
    "int_x = np.array([.6, 0.025, .15, 0])\n",
    "bounds = ((0, 1), (-1, 1), (0, 1), (-90, 90))\n",
    "res = sciopt.minimize(minfun, int_x, args=args_tup, bounds=bounds, method='L-BFGS-B', jac='2-point')"
   ]
  },
  {
   "cell_type": "code",
   "execution_count": null,
   "metadata": {},
   "outputs": [],
   "source": [
    "print('Final values of a0, a2, a4, phi: {}'.format(res.x))\n",
    "print('Final residual: {}'.format(res.fun))"
   ]
  },
  {
   "cell_type": "markdown",
   "metadata": {},
   "source": [
    "### Plot fit results"
   ]
  },
  {
   "cell_type": "code",
   "execution_count": null,
   "metadata": {},
   "outputs": [],
   "source": [
    "a0f = res.x[0]\n",
    "a2f = res.x[1]\n",
    "a4f = res.x[2]\n",
    "phif = res.x[3]\n",
    "\n",
    "Ifit, theta_fit = Ifiber(a0f, a2f, a4f, phif, normalize=False)"
   ]
  },
  {
   "cell_type": "code",
   "execution_count": null,
   "metadata": {},
   "outputs": [],
   "source": [
    "theta = np.linspace(-90, 90, 100)\n",
    "fig = plt.figure(figsize=(10, 10))\n",
    "plt.plot(theta, Isingle_data, color='g', label='Reference Single Fiber Intensity')\n",
    "plt.plot(theta, Idist_data, color='r', label='Fiber Distribution Intensity');\n",
    "plt.plot(theta, Ifit, color='k', ls='dashed', label='Fit Distribution Intensity')\n",
    "plt.legend(prop={'size': 14}, loc='best');\n",
    "plt.xlabel(r'$\\theta$', fontsize=18);\n",
    "plt.ylabel('Intensity (a.u.)', fontsize=18);\n",
    "plt.ylim(-.5, .5);\n",
    "print('Single Fiber a2: {}, a4: {} and a2/a4: {}'.format(a2, a4, a2/a4))\n",
    "print('Fit Fiber Distribution a2: {}, a4: {} and a2/a4: {}'.format(a2f, a4f, a2f/a4f))"
   ]
  },
  {
   "cell_type": "markdown",
   "metadata": {},
   "source": [
    "## Look at ODF data from SALS and compare with pSFDI a0, a2, a4"
   ]
  },
  {
   "cell_type": "markdown",
   "metadata": {},
   "source": [
    "## Look at spread of possible a2/a4 combinations"
   ]
  },
  {
   "cell_type": "code",
   "execution_count": null,
   "metadata": {},
   "outputs": [],
   "source": [
    "a2s = np.linspace(-1, 1, 100)\n",
    "a4s = np.linspace(0.01, 1, 100)\n",
    "\n",
    "a44, a22 = np.meshgrid(a4s, a2s)"
   ]
  },
  {
   "cell_type": "code",
   "execution_count": null,
   "metadata": {},
   "outputs": [],
   "source": [
    "ratio = a22/a44\n",
    "\n",
    "fig, (ax0, ax1, ax2) = plt.subplots(1, 3, figsize=(17, 17))\n",
    "im0 = ax0.imshow(a22, cmap='jet')\n",
    "divider = make_axes_locatable(ax0)\n",
    "cax0 = divider.append_axes('right', size='5%', pad=0.05)\n",
    "fig.colorbar(im0, cax=cax0)\n",
    "ax0.set_title('a2')\n",
    "\n",
    "im1 = ax1.imshow(a44, cmap='jet')\n",
    "divider = make_axes_locatable(ax1)\n",
    "cax1 = divider.append_axes('right', size='5%', pad=0.05)\n",
    "fig.colorbar(im1, cax=cax1)\n",
    "ax1.set_title('a4');\n",
    "\n",
    "im2 = ax2.imshow(ratio, cmap='jet')\n",
    "divider = make_axes_locatable(ax2)\n",
    "cax2 = divider.append_axes('right', size='5%', pad=0.05)\n",
    "fig.colorbar(im2, cax=cax2)\n",
    "ax2.set_title('a2/a4');"
   ]
  },
  {
   "cell_type": "code",
   "execution_count": null,
   "metadata": {},
   "outputs": [],
   "source": [
    "fig = plt.figure(figsize=(10, 10))\n",
    "plt.imshow(ratio, cmap='jet', extent=[0, 1, 1, -1], aspect='auto')\n",
    "plt.colorbar();\n",
    "plt.title('Ratio of a2/a4 over range of theoretical values of a2 and a4', size=15);\n",
    "plt.xlabel('a4', size=18)\n",
    "plt.ylabel('a2', size=18);"
   ]
  },
  {
   "cell_type": "markdown",
   "metadata": {},
   "source": [
    "### Looking at 1D slices - Varying a4"
   ]
  },
  {
   "cell_type": "code",
   "execution_count": null,
   "metadata": {},
   "outputs": [],
   "source": [
    "a2 = np.linspace(-1, 1, 5)\n",
    "a4 = np.linspace(0.01, 1, 100)"
   ]
  },
  {
   "cell_type": "code",
   "execution_count": null,
   "metadata": {},
   "outputs": [],
   "source": [
    "fig = plt.figure(figsize=(10, 10))\n",
    "plt.plot(a4, a2[0] / a4, label='a2={}'.format(a2[0]));\n",
    "plt.plot(a4, a2[1] / a4, label='a2={}'.format(a2[1]))\n",
    "plt.plot(a4, a2[2] / a4, label='a2={}'.format(a2[2]))\n",
    "plt.plot(a4, a2[3] / a4, label='a2={}'.format(a2[3]))\n",
    "plt.plot(a4, a2[4] / a4, label='a2={}'.format(a2[4]))\n",
    "plt.legend(prop={'size': 18});\n",
    "plt.xlabel('a4', size=18)\n",
    "plt.ylabel('a2/a4', size=18)\n",
    "plt.title('1D Slice of a2/a4 - varying a4', size=16);"
   ]
  },
  {
   "cell_type": "markdown",
   "metadata": {},
   "source": [
    "### Looking at 1D slices - Varying a2"
   ]
  },
  {
   "cell_type": "code",
   "execution_count": null,
   "metadata": {},
   "outputs": [],
   "source": [
    "a2 = np.linspace(-1, 1, 100)\n",
    "a4 = np.linspace(0.0, 1, 5)\n",
    "print(a4)"
   ]
  },
  {
   "cell_type": "code",
   "execution_count": null,
   "metadata": {
    "scrolled": false
   },
   "outputs": [],
   "source": [
    "# Note leaving out the a4=0 as it leads to inf\n",
    "fig = plt.figure(figsize=(10, 10))\n",
    "plt.plot(a2, a2 / a4[1], label='a4={}'.format(a4[1]))\n",
    "plt.plot(a2, a2 / a4[2], label='a4={}'.format(a4[2]))\n",
    "plt.plot(a2, a2 / a4[3], label='a4={}'.format(a4[3]))\n",
    "plt.plot(a2, a2 / a4[4], label='a4={}'.format(a4[4]))\n",
    "plt.legend(prop={'size': 18});\n",
    "plt.xlabel('a2', size=18)\n",
    "plt.ylabel('a2/a4', size=18)\n",
    "plt.title('1D Slice of a2/a4 - varying a2', size=16);"
   ]
  },
  {
   "cell_type": "markdown",
   "metadata": {},
   "source": [
    "### Looking at 1D slices - Varying a4 - Looking at top 80% of a4 range"
   ]
  },
  {
   "cell_type": "code",
   "execution_count": null,
   "metadata": {},
   "outputs": [],
   "source": [
    "a2 = np.linspace(-1, 1, 5)\n",
    "a4 = np.linspace(0.01, 1, 100)"
   ]
  },
  {
   "cell_type": "code",
   "execution_count": null,
   "metadata": {},
   "outputs": [],
   "source": [
    "fig = plt.figure(figsize=(10, 10))\n",
    "plt.plot(a4, a2[0] / a4, label='a2={}'.format(a2[0]));\n",
    "plt.plot(a4, a2[1] / a4, label='a2={}'.format(a2[1]))\n",
    "plt.plot(a4, a2[2] / a4, label='a2={}'.format(a2[2]))\n",
    "plt.plot(a4, a2[3] / a4, label='a2={}'.format(a2[3]))\n",
    "plt.plot(a4, a2[4] / a4, label='a2={}'.format(a2[4]))\n",
    "plt.legend(prop={'size': 18});\n",
    "plt.xlabel('a4', size=18)\n",
    "plt.ylabel('a2/a4', size=18)\n",
    "plt.xlim(0.2, 1.0)\n",
    "plt.ylim(-5, 5)\n",
    "plt.title('1D Slice of a2/a4 - varying a4', size=16);"
   ]
  },
  {
   "cell_type": "markdown",
   "metadata": {},
   "source": [
    "### Histogram a2/a4"
   ]
  },
  {
   "cell_type": "code",
   "execution_count": null,
   "metadata": {},
   "outputs": [],
   "source": [
    "ratio_flat = np.ndarray.flatten(ratio)"
   ]
  },
  {
   "cell_type": "code",
   "execution_count": null,
   "metadata": {},
   "outputs": [],
   "source": [
    "fig = plt.figure(figsize=(10, 10))\n",
    "plt.boxplot(ratio_flat, showfliers=False);"
   ]
  },
  {
   "cell_type": "code",
   "execution_count": null,
   "metadata": {},
   "outputs": [],
   "source": [
    "fig = plt.figure(figsize=(10, 10))\n",
    "plt.hist(ratio_flat);"
   ]
  },
  {
   "cell_type": "markdown",
   "metadata": {},
   "source": [
    "### Effects of fiber population splay on a2/a4 ratios"
   ]
  },
  {
   "cell_type": "markdown",
   "metadata": {},
   "source": [
    "Note, this doesn't really reflect range of a2/a4 from real single fiber types. Need to get that from the literature. This is just to scope.\n",
    "\n",
    "SOMETHING SEEMS WRONG"
   ]
  },
  {
   "cell_type": "code",
   "execution_count": null,
   "metadata": {},
   "outputs": [],
   "source": [
    "# Specify range of a2/a4 to be [-4, 4]\n",
    "# Accomplish this by fixing a4=0.25 and letting a2 range [-1, 1]\n",
    "a2 = np.linspace(-1, 1, 20)\n",
    "a4 = 0.25\n",
    "a2a4 = a2 / a4"
   ]
  },
  {
   "cell_type": "code",
   "execution_count": null,
   "metadata": {},
   "outputs": [],
   "source": [
    "# Specify range of sigma\n",
    "sigma = np.linspace(0, 90, 19)"
   ]
  },
  {
   "cell_type": "code",
   "execution_count": null,
   "metadata": {},
   "outputs": [],
   "source": [
    "# Loop over a2/a4\n",
    "# Loop over splay\n",
    "# Compute a2/a4 of a distribution, use a2 and a4 as a starting point\n",
    "# Store this in th earray\n",
    "\n",
    "phi = 0\n",
    "a0 = 0\n",
    "nsamples = 10000\n",
    "bounds = ((0, 1), (-1, 1), (0, 1), (-90, 90))\n",
    "\n",
    "a2a4_dist = np.zeros((len(a2/a4), len(sigma)))\n",
    "residualmat = np.zeros((len(a2/a4), len(sigma)))\n",
    "for i in range(0, len(a2a4)):\n",
    "    for j in range(0, len(sigma)):\n",
    "        a2 = a2a4[i] * a4\n",
    "        # Generate a synthetic distribution\n",
    "        Idist_data = syntheticIdist(a0, a2, a4, splay, nsamples, distribution='normal')\n",
    "        # Fit that data\n",
    "        args_tup = (Idist_data)\n",
    "        int_x = np.array([a0, a2, a4, phi])\n",
    "        minresult = sciopt.minimize(minfun, int_x, args=args_tup, bounds=bounds, method='L-BFGS-B', jac='2-point')\n",
    "        a0f = minresult.x[0]\n",
    "        a2f = minresult.x[1]\n",
    "        a4f = minresult.x[2]\n",
    "        phif = minresult.x[3]\n",
    "        residual = minresult.fun\n",
    "        a2a4f = a2f/a4f\n",
    "        \n",
    "        a2a4_dist[i, j] = a2a4f\n",
    "        residualmat[i, j] = residual"
   ]
  },
  {
   "cell_type": "code",
   "execution_count": null,
   "metadata": {},
   "outputs": [],
   "source": [
    "fig = plt.figure(figsize=(10, 10))\n",
    "plt.imshow(a2a4_dist, cmap='jet', extent=[0, 90, 4, -4], aspect='auto')\n",
    "plt.colorbar();\n",
    "plt.title('Distribution a2/a4 from given a2/a4 single fiber input and distribution splay', size=15);\n",
    "plt.xlabel('sigma', size=18)\n",
    "plt.ylabel('a2/a4', size=18);"
   ]
  },
  {
   "cell_type": "code",
   "execution_count": null,
   "metadata": {},
   "outputs": [],
   "source": [
    "fig = plt.figure(figsize=(10, 10))\n",
    "plt.imshow(residualmat, cmap='jet', extent=[0, 90, 4, -4], aspect='auto')\n",
    "plt.colorbar();\n",
    "plt.title('Residuals from minimization process', size=15);\n",
    "plt.xlabel('sigma', size=18)\n",
    "plt.ylabel('a2/a4', size=18);"
   ]
  },
  {
   "cell_type": "code",
   "execution_count": null,
   "metadata": {},
   "outputs": [],
   "source": [
    "a2a4_stacked = np.zeros((len(a2a4), 19))\n",
    "for i in range(0, 19):\n",
    "    a2a4_stacked[:, i] = a2a4"
   ]
  },
  {
   "cell_type": "code",
   "execution_count": null,
   "metadata": {},
   "outputs": [],
   "source": [
    "fig = plt.figure(figsize=(10, 10))\n",
    "plt.imshow(a2a4_stacked, cmap='jet', extent=[0, 90, 4, -4], aspect='auto')\n",
    "plt.colorbar();\n",
    "plt.title('Distribution a2/a4 from given a2/a4 single fiber input and distribution splay', size=15);\n",
    "plt.xlabel('sigma', size=18)\n",
    "plt.ylabel('a2/a4', size=18);"
   ]
  },
  {
   "cell_type": "code",
   "execution_count": null,
   "metadata": {},
   "outputs": [],
   "source": []
  }
 ],
 "metadata": {
  "kernelspec": {
   "display_name": "Python (scidev)",
   "language": "python",
   "name": "scidev"
  },
  "language_info": {
   "codemirror_mode": {
    "name": "ipython",
    "version": 3
   },
   "file_extension": ".py",
   "mimetype": "text/x-python",
   "name": "python",
   "nbconvert_exporter": "python",
   "pygments_lexer": "ipython3",
   "version": "3.6.8"
  }
 },
 "nbformat": 4,
 "nbformat_minor": 2
}
