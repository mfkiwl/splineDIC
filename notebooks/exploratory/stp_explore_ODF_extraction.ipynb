{
 "cells": [
  {
   "cell_type": "markdown",
   "metadata": {},
   "source": [
    "# Exploring ODF Extraction\n",
    "## Sam Potter\n",
    "## Current: 3/14/19"
   ]
  },
  {
   "cell_type": "markdown",
   "metadata": {},
   "source": [
    "## Path and Imports"
   ]
  },
  {
   "cell_type": "code",
   "execution_count": 24,
   "metadata": {},
   "outputs": [],
   "source": [
    "import sys\n",
    "import os\n",
    "\n",
    "sys.path.extend(['C:\\\\Users\\\\potterst1\\\\Desktop\\Repositories\\BitBucket\\dic',\n",
    "                 'C:/Users/potterst1/Desktop/Repositories/BitBucket/dic'])\n",
    "sys.path.extend(['/workspace/stpotter/git/bitbucket/dic'])\n",
    "from dic import visualize\n",
    "from dic import fileIO\n",
    "from matplotlib import pyplot as plt\n",
    "import numpy as np\n",
    "from mpl_toolkits.axes_grid1 import make_axes_locatable\n",
    "from matplotlib import patches\n",
    "from matplotlib import rc\n",
    "from dic import utilities\n",
    "\n",
    "from ipywidgets import *\n",
    "from scipy import optimize as sciopt"
   ]
  },
  {
   "cell_type": "markdown",
   "metadata": {},
   "source": [
    "## Magics"
   ]
  },
  {
   "cell_type": "code",
   "execution_count": 2,
   "metadata": {},
   "outputs": [],
   "source": [
    "%matplotlib inline"
   ]
  },
  {
   "cell_type": "markdown",
   "metadata": {},
   "source": [
    "## Optical Mathematics"
   ]
  },
  {
   "cell_type": "markdown",
   "metadata": {},
   "source": [
    "### Cylindrical scattering for single fiber"
   ]
  },
  {
   "cell_type": "markdown",
   "metadata": {},
   "source": [
    "$I_{fiber}(\\theta) = a_0 + a_2 \\cos(2(\\theta - \\phi)) + a_4 \\cos(4(\\theta - \\phi))$"
   ]
  },
  {
   "cell_type": "markdown",
   "metadata": {},
   "source": [
    "### Cylindrical scattering for a distribution of fibers"
   ]
  },
  {
   "cell_type": "markdown",
   "metadata": {},
   "source": [
    "$I_{dist}(\\theta) = \\int_{-\\pi/2}^{\\pi/2} I_{fiber}(\\theta) PDF_{dist}(\\theta) d \\theta$"
   ]
  },
  {
   "cell_type": "markdown",
   "metadata": {},
   "source": [
    "## Setup Single Fiber Cosine Series"
   ]
  },
  {
   "cell_type": "markdown",
   "metadata": {},
   "source": [
    "### Definition of single fiber function"
   ]
  },
  {
   "cell_type": "code",
   "execution_count": 3,
   "metadata": {},
   "outputs": [],
   "source": [
    "def Ifiber(a0, a2, a4, phi, numpts=100):\n",
    "    \n",
    "    theta = np.linspace(-90, 90, numpts)\n",
    "    \n",
    "    vals = a0 + a2 * np.cos(np.deg2rad(2 * (theta - phi))) + a4 * np.cos(np.deg2rad(4 * (theta - phi)))\n",
    "    \n",
    "    nvals = utilities.normalize_1d(vals)\n",
    "    \n",
    "    return nvals, theta"
   ]
  },
  {
   "cell_type": "code",
   "execution_count": 4,
   "metadata": {},
   "outputs": [],
   "source": [
    "def Ifiber_interactive(a0, a2, a4, phi, numpts=100):\n",
    "    \n",
    "    theta = np.linspace(-90, 90, numpts)\n",
    "    \n",
    "    vals = a0 + a2 * np.cos(np.deg2rad(2 * (theta - phi))) + a4 * np.cos(np.deg2rad(4 * (theta - phi)))\n",
    "    \n",
    "    nvals = utilities.normalize_1d(vals)\n",
    "    \n",
    "    fig = plt.figure(figsize=(10, 10))\n",
    "    plt.plot(theta, nvals, color='g', label='Intensity');\n",
    "    plt.legend(prop={'size': 18});\n",
    "    plt.xlabel(r'$\\theta$', fontsize=18);\n",
    "    plt.ylabel('Normalized Intensity (a.u.)', fontsize=18);\n",
    "    plt.title('Normalized Intensity Curves of Single Fiber under Cylindrical Scattering', fontsize=18);\n",
    "    plt.autoscale(enable=True, axis='x', tight=True)\n",
    "    \n",
    "    print('a2/a4: {}'.format(a2/a4))"
   ]
  },
  {
   "cell_type": "markdown",
   "metadata": {},
   "source": [
    "### Ranges of a0, a2, a4"
   ]
  },
  {
   "cell_type": "code",
   "execution_count": 5,
   "metadata": {},
   "outputs": [],
   "source": [
    "a0 = np.linspace(0, 1, 10)\n",
    "a2 = np.linspace(0, 0.05, 10)\n",
    "a4 = np.linspace(0, 0.2, 10)"
   ]
  },
  {
   "cell_type": "markdown",
   "metadata": {},
   "source": [
    "### Plot a sample intensity function"
   ]
  },
  {
   "cell_type": "code",
   "execution_count": 6,
   "metadata": {},
   "outputs": [
    {
     "data": {
      "application/vnd.jupyter.widget-view+json": {
       "model_id": "e2889af1f86b446a83516b823a1b9cb8",
       "version_major": 2,
       "version_minor": 0
      },
      "text/plain": [
       "interactive(children=(FloatSlider(value=0.0, description='a0', max=1.0), FloatSlider(value=0.025, description=…"
      ]
     },
     "metadata": {},
     "output_type": "display_data"
    }
   ],
   "source": [
    "p = interactive(Ifiber_interactive, a0=(0, 1, 0.1), a2=(0, 0.05, 0.005), a4=(0, 0.2, 0.02), phi=(-90, 90, 5), numpts=(100, 500, 10))\n",
    "display(p)"
   ]
  },
  {
   "cell_type": "markdown",
   "metadata": {},
   "source": [
    "## Setup Gaussian Distribution"
   ]
  },
  {
   "cell_type": "markdown",
   "metadata": {},
   "source": [
    "### Setup and generate samples"
   ]
  },
  {
   "cell_type": "code",
   "execution_count": 19,
   "metadata": {},
   "outputs": [],
   "source": [
    "def syntheticIdist(a0, a2, a4, mu, sigma, nsamples):\n",
    "    \n",
    "    samples = np.random.normal(mu, sigma, nsamples)\n",
    "    ntheta = 100\n",
    "    Idist = np.zeros((len(samples), ntheta))\n",
    "    for i in range(0, len(samples)):\n",
    "        vals, theta_dist = Ifiber(a0, a2, a4, samples[i], numpts=ntheta)\n",
    "        Idist[i, :] = vals\n",
    "\n",
    "    Idist = np.sum(Idist, axis=0)\n",
    "    Idist = utilities.normalize_1d(Idist)\n",
    "    \n",
    "    return Idist"
   ]
  },
  {
   "cell_type": "code",
   "execution_count": 20,
   "metadata": {},
   "outputs": [],
   "source": [
    "def compareI(a0, a2, a4, phi0, mu, sigma, nsamples):\n",
    "    \n",
    "    samples = np.random.normal(mu, sigma, nsamples)\n",
    "    ntheta = 100\n",
    "    Idist = np.zeros((len(samples), ntheta))\n",
    "    for i in range(0, len(samples)):\n",
    "        vals, theta_dist = Ifiber(a0, a2, a4, samples[i], numpts=ntheta)\n",
    "        Idist[i, :] = vals\n",
    "\n",
    "    Idist = np.sum(Idist, axis=0)\n",
    "    Idist = utilities.normalize_1d(Idist)\n",
    "    \n",
    "    Ifibers, theta_fiber = Ifiber(a0, a2, a4, phi0, numpts=ntheta)\n",
    "    \n",
    "    fig = plt.figure(figsize=(8, 8))\n",
    "    plt.plot(theta_fiber, Ifibers, color='g', label='Single Fiber Intensity');\n",
    "    plt.plot(theta_dist, Idist, color='r', label='Fiber Distribution Intensity');\n",
    "    plt.legend(prop={'size': 18}, loc='best');\n",
    "    plt.xlabel(r'$\\theta$', fontsize=18);\n",
    "    plt.ylabel('Intensity (a.u.)', fontsize=18);\n",
    "    plt.title('Intensity Curves from Single Fiber and a Distribution of Fibers', fontsize=18);\n",
    "    plt.ylim(0, 1.25)\n",
    "    plt.autoscale(enable=True, axis='x', tight=True)\n",
    "    "
   ]
  },
  {
   "cell_type": "code",
   "execution_count": 28,
   "metadata": {},
   "outputs": [
    {
     "data": {
      "application/vnd.jupyter.widget-view+json": {
       "model_id": "b9e90971c054432eba1b814f0eb9b349",
       "version_major": 2,
       "version_minor": 0
      },
      "text/plain": [
       "interactive(children=(FloatSlider(value=0.0, description='a0', max=1.0), FloatSlider(value=0.025, description=…"
      ]
     },
     "metadata": {},
     "output_type": "display_data"
    }
   ],
   "source": [
    "p = interactive(compareI, a0=(0, 1, 0.1), a2=(0, 0.05, 0.005), a4=(0, 0.2, 0.02), phi0=(-90, 90, 5), mu=(-1, 1, 0.5), sigma=(0, 90, 5), nsamples=(10, 1000, 10))\n",
    "display(p)"
   ]
  },
  {
   "cell_type": "markdown",
   "metadata": {},
   "source": [
    "## See if I can fit the new a0, a2, and a4 terms from the Idist"
   ]
  },
  {
   "cell_type": "code",
   "execution_count": 22,
   "metadata": {},
   "outputs": [],
   "source": [
    "def minimand(a0, a2, a4, phi, data):\n",
    "    \n",
    "    theta = np.linspace(-90, 90, len(data))\n",
    "    \n",
    "    feval = a0 + a2 * np.cos(np.deg2rad(2 * (theta - phi))) + a4 * np.cos(np.deg2rad(4 * (theta - phi)))\n",
    "    \n",
    "    diff = data - feval\n",
    "    \n",
    "    diffsq = np.square(diff, diff)\n",
    "    \n",
    "    ssd = np.sum(diffsq)\n",
    "    \n",
    "    return ssd"
   ]
  },
  {
   "cell_type": "code",
   "execution_count": 30,
   "metadata": {},
   "outputs": [],
   "source": [
    "def minfun(params, *args):\n",
    "\n",
    "    return minimand(params[0], params[1], params[2], params[3], *args)"
   ]
  },
  {
   "cell_type": "code",
   "execution_count": 31,
   "metadata": {},
   "outputs": [
    {
     "data": {
      "text/plain": [
       "18.705508683345546"
      ]
     },
     "execution_count": 31,
     "metadata": {},
     "output_type": "execute_result"
    }
   ],
   "source": [
    "Idist_data = syntheticIdist(.5, 0.005, .15, 0, 10, 1000)\n",
    "minimand(.6, 0.025, .1, 45, Idist_data)"
   ]
  },
  {
   "cell_type": "markdown",
   "metadata": {},
   "source": [
    "## Find the distribution terms"
   ]
  },
  {
   "cell_type": "code",
   "execution_count": 44,
   "metadata": {},
   "outputs": [],
   "source": [
    "args_tup = (Idist_data)\n",
    "int_x = np.array([.6, 0.025, .1, 45])\n",
    "bounds = ((0, np.inf), (0, np.inf), (0, np.inf), (0, 180))\n",
    "res = sciopt.minimize(minfun, int_x, args=args_tup, bounds=bounds, method='L-BFGS-B', jac='2-point')"
   ]
  },
  {
   "cell_type": "code",
   "execution_count": 45,
   "metadata": {},
   "outputs": [
    {
     "name": "stdout",
     "output_type": "stream",
     "text": [
      "Final values of a0, a2, a4, phi: [4.94916719e-01 2.09396416e-04 0.00000000e+00 4.49983577e+01]\n",
      "Final residual: 12.14037146570397\n"
     ]
    }
   ],
   "source": [
    "print('Final values of a0, a2, a4, phi: {}'.format(res.x))\n",
    "print('Final residual: {}'.format(res.fun))"
   ]
  },
  {
   "cell_type": "markdown",
   "metadata": {},
   "source": [
    "### Analytical distribution"
   ]
  },
  {
   "cell_type": "code",
   "execution_count": null,
   "metadata": {},
   "outputs": [],
   "source": [
    "def gauss(mu, sigma, x):\n",
    "    \n",
    "    val = 1/(sigma * np.sqrt(2 * np.pi)) * np.exp( - (x - mu)**2 / (2 * sigma**2))\n",
    "    \n",
    "    return val"
   ]
  }
 ],
 "metadata": {
  "kernelspec": {
   "display_name": "Python (scidev)",
   "language": "python",
   "name": "scidev"
  },
  "language_info": {
   "codemirror_mode": {
    "name": "ipython",
    "version": 3
   },
   "file_extension": ".py",
   "mimetype": "text/x-python",
   "name": "python",
   "nbconvert_exporter": "python",
   "pygments_lexer": "ipython3",
   "version": "3.6.7"
  }
 },
 "nbformat": 4,
 "nbformat_minor": 2
}
